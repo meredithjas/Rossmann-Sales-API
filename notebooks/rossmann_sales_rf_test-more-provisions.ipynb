{
 "cells": [
  {
   "cell_type": "code",
   "execution_count": 1,
   "id": "49621151-c07e-4935-9ec4-0be1898894ec",
   "metadata": {
    "tags": []
   },
   "outputs": [],
   "source": [
    "import pandas as pd\n",
    "from sklearn.model_selection import train_test_split"
   ]
  },
  {
   "cell_type": "code",
   "execution_count": 2,
   "id": "3bd8b2fd-cc17-40f6-ab8a-afca4e8f4f9f",
   "metadata": {
    "tags": []
   },
   "outputs": [],
   "source": [
    "store_data = pd.read_csv(\"../data/store.csv\")"
   ]
  },
  {
   "cell_type": "code",
   "execution_count": 3,
   "id": "f8cb85a4-7f65-4053-b9eb-f89f678a670d",
   "metadata": {
    "tags": []
   },
   "outputs": [
    {
     "name": "stderr",
     "output_type": "stream",
     "text": [
      "/var/folders/h6/yd92lr9j5wz6x8bvzgh5btj80000gn/T/ipykernel_65431/671168194.py:1: DtypeWarning: Columns (7) have mixed types. Specify dtype option on import or set low_memory=False.\n",
      "  train_data = pd.read_csv(\"../data/train.csv\")\n"
     ]
    }
   ],
   "source": [
    "train_data = pd.read_csv(\"../data/train.csv\")"
   ]
  },
  {
   "cell_type": "code",
   "execution_count": 4,
   "id": "2d14925d-e906-453b-a88b-39c0b0547367",
   "metadata": {
    "tags": []
   },
   "outputs": [
    {
     "name": "stdout",
     "output_type": "stream",
     "text": [
      "<class 'pandas.core.frame.DataFrame'>\n",
      "RangeIndex: 1115 entries, 0 to 1114\n",
      "Data columns (total 10 columns):\n",
      " #   Column                     Non-Null Count  Dtype  \n",
      "---  ------                     --------------  -----  \n",
      " 0   Store                      1115 non-null   int64  \n",
      " 1   StoreType                  1115 non-null   object \n",
      " 2   Assortment                 1115 non-null   object \n",
      " 3   CompetitionDistance        1112 non-null   float64\n",
      " 4   CompetitionOpenSinceMonth  761 non-null    float64\n",
      " 5   CompetitionOpenSinceYear   761 non-null    float64\n",
      " 6   Promo2                     1115 non-null   int64  \n",
      " 7   Promo2SinceWeek            571 non-null    float64\n",
      " 8   Promo2SinceYear            571 non-null    float64\n",
      " 9   PromoInterval              571 non-null    object \n",
      "dtypes: float64(5), int64(2), object(3)\n",
      "memory usage: 87.2+ KB\n"
     ]
    }
   ],
   "source": [
    "store_data.info()"
   ]
  },
  {
   "cell_type": "code",
   "execution_count": 5,
   "id": "827b292b-5548-428d-91b3-3c8c0d059816",
   "metadata": {
    "tags": []
   },
   "outputs": [
    {
     "name": "stdout",
     "output_type": "stream",
     "text": [
      "<class 'pandas.core.frame.DataFrame'>\n",
      "RangeIndex: 914629 entries, 0 to 914628\n",
      "Data columns (total 9 columns):\n",
      " #   Column         Non-Null Count   Dtype \n",
      "---  ------         --------------   ----- \n",
      " 0   Store          914629 non-null  int64 \n",
      " 1   DayOfWeek      914629 non-null  int64 \n",
      " 2   Date           914629 non-null  object\n",
      " 3   Sales          914629 non-null  int64 \n",
      " 4   Customers      914629 non-null  int64 \n",
      " 5   Open           914629 non-null  int64 \n",
      " 6   Promo          914629 non-null  int64 \n",
      " 7   StateHoliday   914629 non-null  object\n",
      " 8   SchoolHoliday  914629 non-null  int64 \n",
      "dtypes: int64(7), object(2)\n",
      "memory usage: 62.8+ MB\n"
     ]
    }
   ],
   "source": [
    "train_data.info()"
   ]
  },
  {
   "cell_type": "code",
   "execution_count": 6,
   "id": "f2078cd2-6954-4354-bd39-100328fb638e",
   "metadata": {
    "tags": []
   },
   "outputs": [],
   "source": [
    "sales_data = train_data"
   ]
  },
  {
   "cell_type": "code",
   "execution_count": 7,
   "id": "d0a8dce3-ebae-4e0e-87c7-8eab4e4242ff",
   "metadata": {
    "tags": []
   },
   "outputs": [],
   "source": [
    "import datetime\n",
    "\n",
    "# convert date column to datetime type\n",
    "sales_data['Date'] = pd.to_datetime(sales_data['Date'])\n",
    "\n",
    "# create new columns for year, month, and day of week\n",
    "sales_data['Year'] = sales_data['Date'].dt.year\n",
    "sales_data['Month'] = sales_data['Date'].dt.month\n",
    "sales_data['Day'] = sales_data['Date'].dt.day"
   ]
  },
  {
   "cell_type": "code",
   "execution_count": 8,
   "id": "3ef785c9-d11f-4ad8-b473-0d0d7e8eb96b",
   "metadata": {
    "tags": []
   },
   "outputs": [
    {
     "data": {
      "text/html": [
       "<div>\n",
       "<style scoped>\n",
       "    .dataframe tbody tr th:only-of-type {\n",
       "        vertical-align: middle;\n",
       "    }\n",
       "\n",
       "    .dataframe tbody tr th {\n",
       "        vertical-align: top;\n",
       "    }\n",
       "\n",
       "    .dataframe thead th {\n",
       "        text-align: right;\n",
       "    }\n",
       "</style>\n",
       "<table border=\"1\" class=\"dataframe\">\n",
       "  <thead>\n",
       "    <tr style=\"text-align: right;\">\n",
       "      <th></th>\n",
       "      <th>Store</th>\n",
       "      <th>DayOfWeek</th>\n",
       "      <th>Date</th>\n",
       "      <th>Sales</th>\n",
       "      <th>Customers</th>\n",
       "      <th>Open</th>\n",
       "      <th>Promo</th>\n",
       "      <th>StateHoliday</th>\n",
       "      <th>SchoolHoliday</th>\n",
       "      <th>Year</th>\n",
       "      <th>Month</th>\n",
       "      <th>Day</th>\n",
       "    </tr>\n",
       "  </thead>\n",
       "  <tbody>\n",
       "    <tr>\n",
       "      <th>0</th>\n",
       "      <td>1</td>\n",
       "      <td>4</td>\n",
       "      <td>2015-04-30</td>\n",
       "      <td>6228</td>\n",
       "      <td>650</td>\n",
       "      <td>1</td>\n",
       "      <td>1</td>\n",
       "      <td>0</td>\n",
       "      <td>0</td>\n",
       "      <td>2015</td>\n",
       "      <td>4</td>\n",
       "      <td>30</td>\n",
       "    </tr>\n",
       "    <tr>\n",
       "      <th>1</th>\n",
       "      <td>2</td>\n",
       "      <td>4</td>\n",
       "      <td>2015-04-30</td>\n",
       "      <td>6884</td>\n",
       "      <td>716</td>\n",
       "      <td>1</td>\n",
       "      <td>1</td>\n",
       "      <td>0</td>\n",
       "      <td>0</td>\n",
       "      <td>2015</td>\n",
       "      <td>4</td>\n",
       "      <td>30</td>\n",
       "    </tr>\n",
       "    <tr>\n",
       "      <th>2</th>\n",
       "      <td>3</td>\n",
       "      <td>4</td>\n",
       "      <td>2015-04-30</td>\n",
       "      <td>9971</td>\n",
       "      <td>979</td>\n",
       "      <td>1</td>\n",
       "      <td>1</td>\n",
       "      <td>0</td>\n",
       "      <td>0</td>\n",
       "      <td>2015</td>\n",
       "      <td>4</td>\n",
       "      <td>30</td>\n",
       "    </tr>\n",
       "    <tr>\n",
       "      <th>3</th>\n",
       "      <td>4</td>\n",
       "      <td>4</td>\n",
       "      <td>2015-04-30</td>\n",
       "      <td>16106</td>\n",
       "      <td>1854</td>\n",
       "      <td>1</td>\n",
       "      <td>1</td>\n",
       "      <td>0</td>\n",
       "      <td>0</td>\n",
       "      <td>2015</td>\n",
       "      <td>4</td>\n",
       "      <td>30</td>\n",
       "    </tr>\n",
       "    <tr>\n",
       "      <th>4</th>\n",
       "      <td>5</td>\n",
       "      <td>4</td>\n",
       "      <td>2015-04-30</td>\n",
       "      <td>6598</td>\n",
       "      <td>729</td>\n",
       "      <td>1</td>\n",
       "      <td>1</td>\n",
       "      <td>0</td>\n",
       "      <td>0</td>\n",
       "      <td>2015</td>\n",
       "      <td>4</td>\n",
       "      <td>30</td>\n",
       "    </tr>\n",
       "  </tbody>\n",
       "</table>\n",
       "</div>"
      ],
      "text/plain": [
       "   Store  DayOfWeek       Date  Sales  Customers  Open  Promo StateHoliday  \\\n",
       "0      1          4 2015-04-30   6228        650     1      1            0   \n",
       "1      2          4 2015-04-30   6884        716     1      1            0   \n",
       "2      3          4 2015-04-30   9971        979     1      1            0   \n",
       "3      4          4 2015-04-30  16106       1854     1      1            0   \n",
       "4      5          4 2015-04-30   6598        729     1      1            0   \n",
       "\n",
       "   SchoolHoliday  Year  Month  Day  \n",
       "0              0  2015      4   30  \n",
       "1              0  2015      4   30  \n",
       "2              0  2015      4   30  \n",
       "3              0  2015      4   30  \n",
       "4              0  2015      4   30  "
      ]
     },
     "execution_count": 8,
     "metadata": {},
     "output_type": "execute_result"
    }
   ],
   "source": [
    "sales_data.head()"
   ]
  },
  {
   "cell_type": "code",
   "execution_count": 9,
   "id": "2317472b-f62d-4726-85bb-4fc74ed82f5e",
   "metadata": {
    "tags": []
   },
   "outputs": [
    {
     "name": "stdout",
     "output_type": "stream",
     "text": [
      "<class 'pandas.core.frame.DataFrame'>\n",
      "RangeIndex: 914629 entries, 0 to 914628\n",
      "Data columns (total 12 columns):\n",
      " #   Column         Non-Null Count   Dtype         \n",
      "---  ------         --------------   -----         \n",
      " 0   Store          914629 non-null  int64         \n",
      " 1   DayOfWeek      914629 non-null  int64         \n",
      " 2   Date           914629 non-null  datetime64[ns]\n",
      " 3   Sales          914629 non-null  int64         \n",
      " 4   Customers      914629 non-null  int64         \n",
      " 5   Open           914629 non-null  int64         \n",
      " 6   Promo          914629 non-null  int64         \n",
      " 7   StateHoliday   914629 non-null  object        \n",
      " 8   SchoolHoliday  914629 non-null  int64         \n",
      " 9   Year           914629 non-null  int64         \n",
      " 10  Month          914629 non-null  int64         \n",
      " 11  Day            914629 non-null  int64         \n",
      "dtypes: datetime64[ns](1), int64(10), object(1)\n",
      "memory usage: 83.7+ MB\n"
     ]
    }
   ],
   "source": [
    "sales_data.info()"
   ]
  },
  {
   "cell_type": "code",
   "execution_count": 10,
   "id": "0205ec45-c994-40d0-8558-a856fe2b0102",
   "metadata": {
    "tags": []
   },
   "outputs": [
    {
     "data": {
      "text/plain": [
       "array(['0', 'b', 'a', 'c', 0], dtype=object)"
      ]
     },
     "execution_count": 10,
     "metadata": {},
     "output_type": "execute_result"
    }
   ],
   "source": [
    "sales_data['StateHoliday'].unique()"
   ]
  },
  {
   "cell_type": "code",
   "execution_count": 11,
   "id": "f561bed4-2b63-48a7-9d12-5048ceecd730",
   "metadata": {
    "tags": []
   },
   "outputs": [],
   "source": [
    "sales_data['StateHoliday'] = sales_data['StateHoliday'].replace({'0': 0, 'a': 1, 'b': 2, 'c': 3})"
   ]
  },
  {
   "cell_type": "code",
   "execution_count": 12,
   "id": "c2c8bd70-ad92-4e95-bcd7-363760400bd7",
   "metadata": {
    "tags": []
   },
   "outputs": [
    {
     "data": {
      "text/plain": [
       "array([0, 2, 1, 3])"
      ]
     },
     "execution_count": 12,
     "metadata": {},
     "output_type": "execute_result"
    }
   ],
   "source": [
    "sales_data['StateHoliday'].unique()"
   ]
  },
  {
   "cell_type": "code",
   "execution_count": 13,
   "id": "51bb7239-157e-4242-97e0-028273ce7807",
   "metadata": {
    "tags": []
   },
   "outputs": [
    {
     "data": {
      "text/html": [
       "<div>\n",
       "<style scoped>\n",
       "    .dataframe tbody tr th:only-of-type {\n",
       "        vertical-align: middle;\n",
       "    }\n",
       "\n",
       "    .dataframe tbody tr th {\n",
       "        vertical-align: top;\n",
       "    }\n",
       "\n",
       "    .dataframe thead th {\n",
       "        text-align: right;\n",
       "    }\n",
       "</style>\n",
       "<table border=\"1\" class=\"dataframe\">\n",
       "  <thead>\n",
       "    <tr style=\"text-align: right;\">\n",
       "      <th></th>\n",
       "      <th>Store</th>\n",
       "      <th>DayOfWeek</th>\n",
       "      <th>Date</th>\n",
       "      <th>Sales</th>\n",
       "      <th>Customers</th>\n",
       "      <th>Open</th>\n",
       "      <th>Promo</th>\n",
       "      <th>StateHoliday</th>\n",
       "      <th>SchoolHoliday</th>\n",
       "      <th>Year</th>\n",
       "      <th>Month</th>\n",
       "      <th>Day</th>\n",
       "    </tr>\n",
       "  </thead>\n",
       "  <tbody>\n",
       "    <tr>\n",
       "      <th>0</th>\n",
       "      <td>1</td>\n",
       "      <td>4</td>\n",
       "      <td>2015-04-30</td>\n",
       "      <td>6228</td>\n",
       "      <td>650</td>\n",
       "      <td>1</td>\n",
       "      <td>1</td>\n",
       "      <td>0</td>\n",
       "      <td>0</td>\n",
       "      <td>2015</td>\n",
       "      <td>4</td>\n",
       "      <td>30</td>\n",
       "    </tr>\n",
       "    <tr>\n",
       "      <th>1</th>\n",
       "      <td>2</td>\n",
       "      <td>4</td>\n",
       "      <td>2015-04-30</td>\n",
       "      <td>6884</td>\n",
       "      <td>716</td>\n",
       "      <td>1</td>\n",
       "      <td>1</td>\n",
       "      <td>0</td>\n",
       "      <td>0</td>\n",
       "      <td>2015</td>\n",
       "      <td>4</td>\n",
       "      <td>30</td>\n",
       "    </tr>\n",
       "    <tr>\n",
       "      <th>2</th>\n",
       "      <td>3</td>\n",
       "      <td>4</td>\n",
       "      <td>2015-04-30</td>\n",
       "      <td>9971</td>\n",
       "      <td>979</td>\n",
       "      <td>1</td>\n",
       "      <td>1</td>\n",
       "      <td>0</td>\n",
       "      <td>0</td>\n",
       "      <td>2015</td>\n",
       "      <td>4</td>\n",
       "      <td>30</td>\n",
       "    </tr>\n",
       "    <tr>\n",
       "      <th>3</th>\n",
       "      <td>4</td>\n",
       "      <td>4</td>\n",
       "      <td>2015-04-30</td>\n",
       "      <td>16106</td>\n",
       "      <td>1854</td>\n",
       "      <td>1</td>\n",
       "      <td>1</td>\n",
       "      <td>0</td>\n",
       "      <td>0</td>\n",
       "      <td>2015</td>\n",
       "      <td>4</td>\n",
       "      <td>30</td>\n",
       "    </tr>\n",
       "    <tr>\n",
       "      <th>4</th>\n",
       "      <td>5</td>\n",
       "      <td>4</td>\n",
       "      <td>2015-04-30</td>\n",
       "      <td>6598</td>\n",
       "      <td>729</td>\n",
       "      <td>1</td>\n",
       "      <td>1</td>\n",
       "      <td>0</td>\n",
       "      <td>0</td>\n",
       "      <td>2015</td>\n",
       "      <td>4</td>\n",
       "      <td>30</td>\n",
       "    </tr>\n",
       "    <tr>\n",
       "      <th>...</th>\n",
       "      <td>...</td>\n",
       "      <td>...</td>\n",
       "      <td>...</td>\n",
       "      <td>...</td>\n",
       "      <td>...</td>\n",
       "      <td>...</td>\n",
       "      <td>...</td>\n",
       "      <td>...</td>\n",
       "      <td>...</td>\n",
       "      <td>...</td>\n",
       "      <td>...</td>\n",
       "      <td>...</td>\n",
       "    </tr>\n",
       "    <tr>\n",
       "      <th>914624</th>\n",
       "      <td>1111</td>\n",
       "      <td>2</td>\n",
       "      <td>2013-01-01</td>\n",
       "      <td>0</td>\n",
       "      <td>0</td>\n",
       "      <td>0</td>\n",
       "      <td>0</td>\n",
       "      <td>1</td>\n",
       "      <td>1</td>\n",
       "      <td>2013</td>\n",
       "      <td>1</td>\n",
       "      <td>1</td>\n",
       "    </tr>\n",
       "    <tr>\n",
       "      <th>914625</th>\n",
       "      <td>1112</td>\n",
       "      <td>2</td>\n",
       "      <td>2013-01-01</td>\n",
       "      <td>0</td>\n",
       "      <td>0</td>\n",
       "      <td>0</td>\n",
       "      <td>0</td>\n",
       "      <td>1</td>\n",
       "      <td>1</td>\n",
       "      <td>2013</td>\n",
       "      <td>1</td>\n",
       "      <td>1</td>\n",
       "    </tr>\n",
       "    <tr>\n",
       "      <th>914626</th>\n",
       "      <td>1113</td>\n",
       "      <td>2</td>\n",
       "      <td>2013-01-01</td>\n",
       "      <td>0</td>\n",
       "      <td>0</td>\n",
       "      <td>0</td>\n",
       "      <td>0</td>\n",
       "      <td>1</td>\n",
       "      <td>1</td>\n",
       "      <td>2013</td>\n",
       "      <td>1</td>\n",
       "      <td>1</td>\n",
       "    </tr>\n",
       "    <tr>\n",
       "      <th>914627</th>\n",
       "      <td>1114</td>\n",
       "      <td>2</td>\n",
       "      <td>2013-01-01</td>\n",
       "      <td>0</td>\n",
       "      <td>0</td>\n",
       "      <td>0</td>\n",
       "      <td>0</td>\n",
       "      <td>1</td>\n",
       "      <td>1</td>\n",
       "      <td>2013</td>\n",
       "      <td>1</td>\n",
       "      <td>1</td>\n",
       "    </tr>\n",
       "    <tr>\n",
       "      <th>914628</th>\n",
       "      <td>1115</td>\n",
       "      <td>2</td>\n",
       "      <td>2013-01-01</td>\n",
       "      <td>0</td>\n",
       "      <td>0</td>\n",
       "      <td>0</td>\n",
       "      <td>0</td>\n",
       "      <td>1</td>\n",
       "      <td>1</td>\n",
       "      <td>2013</td>\n",
       "      <td>1</td>\n",
       "      <td>1</td>\n",
       "    </tr>\n",
       "  </tbody>\n",
       "</table>\n",
       "<p>914629 rows × 12 columns</p>\n",
       "</div>"
      ],
      "text/plain": [
       "        Store  DayOfWeek       Date  Sales  Customers  Open  Promo  \\\n",
       "0           1          4 2015-04-30   6228        650     1      1   \n",
       "1           2          4 2015-04-30   6884        716     1      1   \n",
       "2           3          4 2015-04-30   9971        979     1      1   \n",
       "3           4          4 2015-04-30  16106       1854     1      1   \n",
       "4           5          4 2015-04-30   6598        729     1      1   \n",
       "...       ...        ...        ...    ...        ...   ...    ...   \n",
       "914624   1111          2 2013-01-01      0          0     0      0   \n",
       "914625   1112          2 2013-01-01      0          0     0      0   \n",
       "914626   1113          2 2013-01-01      0          0     0      0   \n",
       "914627   1114          2 2013-01-01      0          0     0      0   \n",
       "914628   1115          2 2013-01-01      0          0     0      0   \n",
       "\n",
       "        StateHoliday  SchoolHoliday  Year  Month  Day  \n",
       "0                  0              0  2015      4   30  \n",
       "1                  0              0  2015      4   30  \n",
       "2                  0              0  2015      4   30  \n",
       "3                  0              0  2015      4   30  \n",
       "4                  0              0  2015      4   30  \n",
       "...              ...            ...   ...    ...  ...  \n",
       "914624             1              1  2013      1    1  \n",
       "914625             1              1  2013      1    1  \n",
       "914626             1              1  2013      1    1  \n",
       "914627             1              1  2013      1    1  \n",
       "914628             1              1  2013      1    1  \n",
       "\n",
       "[914629 rows x 12 columns]"
      ]
     },
     "execution_count": 13,
     "metadata": {},
     "output_type": "execute_result"
    }
   ],
   "source": [
    "sales_data"
   ]
  },
  {
   "cell_type": "code",
   "execution_count": 14,
   "id": "197d56fd-c813-4580-bfc4-cb63a0ee62be",
   "metadata": {
    "tags": []
   },
   "outputs": [],
   "source": [
    "features = ['Store', 'DayOfWeek', 'Customers', 'Promo', 'StateHoliday', 'SchoolHoliday', 'Year', 'Month', 'Day']"
   ]
  },
  {
   "cell_type": "code",
   "execution_count": 15,
   "id": "86856e21-48f6-422b-99e7-c039f159a1de",
   "metadata": {
    "tags": []
   },
   "outputs": [],
   "source": [
    "X = sales_data[features]"
   ]
  },
  {
   "cell_type": "code",
   "execution_count": 16,
   "id": "93567da2-6f0c-4ba9-b04a-950f61abbb84",
   "metadata": {
    "tags": []
   },
   "outputs": [],
   "source": [
    "y = sales_data.Sales"
   ]
  },
  {
   "cell_type": "code",
   "execution_count": 17,
   "id": "43604a3c-2a65-43c5-a7cd-876b209a391b",
   "metadata": {
    "tags": []
   },
   "outputs": [],
   "source": [
    "X_train, X_test, y_train, y_test = train_test_split(X, y, train_size=0.8, test_size=0.2, random_state=0)"
   ]
  },
  {
   "cell_type": "markdown",
   "id": "a53b4fe0-cdea-4319-ba56-e99c1fda6de0",
   "metadata": {},
   "source": [
    "# Test 2"
   ]
  },
  {
   "cell_type": "code",
   "execution_count": 18,
   "id": "284ac8d7-0244-4f8a-8815-0489e817b350",
   "metadata": {
    "tags": []
   },
   "outputs": [],
   "source": [
    "from sklearn.ensemble import RandomForestRegressor\n",
    "from sklearn.model_selection import GridSearchCV\n",
    "import numpy as np\n",
    "\n",
    "from sklearn.metrics import mean_squared_error, mean_absolute_error, make_scorer"
   ]
  },
  {
   "cell_type": "markdown",
   "id": "856826ee-bec1-40b8-8ce5-a7d9d2eadd8d",
   "metadata": {},
   "source": [
    "From the previous grid search run, the hyperparameter combination that yielded the best performance is `{'max_depth': 10, 'max_features': 7, 'min_samples_leaf': 2, 'min_samples_split': 3, 'n_estimators': 20}`"
   ]
  },
  {
   "cell_type": "markdown",
   "id": "ce34b384-7991-4da9-ac0d-1595574ed551",
   "metadata": {},
   "source": [
    "Wanted to test other combinations to check if a better model can be produced. Increased some of the hyperparameters."
   ]
  },
  {
   "cell_type": "code",
   "execution_count": 19,
   "id": "aad6265f-2c0f-425b-b5c5-4e339ba689aa",
   "metadata": {
    "tags": []
   },
   "outputs": [
    {
     "name": "stdout",
     "output_type": "stream",
     "text": [
      "Best grid search hyperparameters are: {'max_depth': None, 'max_features': 8, 'min_samples_leaf': 2, 'min_samples_split': 4, 'n_estimators': 50}\n",
      "Best grid search score is: -786859.0518502943\n"
     ]
    }
   ],
   "source": [
    "# grid search cv\n",
    "grid_space={'max_depth':[10,None],\n",
    "              'n_estimators':[20,50],\n",
    "              'max_features':[7,8],\n",
    "              'min_samples_leaf':[2],\n",
    "              'min_samples_split':[3,4]\n",
    "           }\n",
    "rf = RandomForestRegressor()\n",
    "\n",
    "scoring = make_scorer(mean_squared_error, greater_is_better=False)\n",
    "\n",
    "grid = GridSearchCV(rf,param_grid=grid_space,cv=3,scoring=scoring)\n",
    "model_grid = grid.fit(X_train, y_train)\n",
    "\n",
    "# grid search results\n",
    "print('Best grid search hyperparameters are: '+str(model_grid.best_params_))\n",
    "print('Best grid search score is: '+str(model_grid.best_score_))"
   ]
  },
  {
   "cell_type": "code",
   "execution_count": 20,
   "id": "64809bb7-187d-4efe-891a-227b7700cfdb",
   "metadata": {
    "tags": []
   },
   "outputs": [
    {
     "name": "stdout",
     "output_type": "stream",
     "text": [
      "{'max_depth': 10, 'max_features': 7, 'min_samples_leaf': 2, 'min_samples_split': 3, 'n_estimators': 20} -1548491.5481165114\n",
      "{'max_depth': 10, 'max_features': 7, 'min_samples_leaf': 2, 'min_samples_split': 3, 'n_estimators': 50} -1550975.7295742023\n",
      "{'max_depth': 10, 'max_features': 7, 'min_samples_leaf': 2, 'min_samples_split': 4, 'n_estimators': 20} -1555981.769648026\n",
      "{'max_depth': 10, 'max_features': 7, 'min_samples_leaf': 2, 'min_samples_split': 4, 'n_estimators': 50} -1549202.2423568722\n",
      "{'max_depth': 10, 'max_features': 8, 'min_samples_leaf': 2, 'min_samples_split': 3, 'n_estimators': 20} -1546817.1575492367\n",
      "{'max_depth': 10, 'max_features': 8, 'min_samples_leaf': 2, 'min_samples_split': 3, 'n_estimators': 50} -1540870.5455943467\n",
      "{'max_depth': 10, 'max_features': 8, 'min_samples_leaf': 2, 'min_samples_split': 4, 'n_estimators': 20} -1543459.5076937324\n",
      "{'max_depth': 10, 'max_features': 8, 'min_samples_leaf': 2, 'min_samples_split': 4, 'n_estimators': 50} -1539510.5744529658\n",
      "{'max_depth': None, 'max_features': 7, 'min_samples_leaf': 2, 'min_samples_split': 3, 'n_estimators': 20} -905518.5553212691\n",
      "{'max_depth': None, 'max_features': 7, 'min_samples_leaf': 2, 'min_samples_split': 3, 'n_estimators': 50} -875009.0927646257\n",
      "{'max_depth': None, 'max_features': 7, 'min_samples_leaf': 2, 'min_samples_split': 4, 'n_estimators': 20} -905266.995882703\n",
      "{'max_depth': None, 'max_features': 7, 'min_samples_leaf': 2, 'min_samples_split': 4, 'n_estimators': 50} -870478.2410084541\n",
      "{'max_depth': None, 'max_features': 8, 'min_samples_leaf': 2, 'min_samples_split': 3, 'n_estimators': 20} -808587.177159584\n",
      "{'max_depth': None, 'max_features': 8, 'min_samples_leaf': 2, 'min_samples_split': 3, 'n_estimators': 50} -787339.7960171787\n",
      "{'max_depth': None, 'max_features': 8, 'min_samples_leaf': 2, 'min_samples_split': 4, 'n_estimators': 20} -811433.920740875\n",
      "{'max_depth': None, 'max_features': 8, 'min_samples_leaf': 2, 'min_samples_split': 4, 'n_estimators': 50} -786859.0518502943\n",
      "mean_squared_error\n"
     ]
    }
   ],
   "source": [
    "cv_results = grid.cv_results_\n",
    "\n",
    "# Print the mean test score for each combination of hyperparameters\n",
    "for i in range(len(cv_results['params'])):\n",
    "    print(cv_results['params'][i], cv_results['mean_test_score'][i])\n",
    "\n",
    "# Access the scorer_ attribute\n",
    "scorer = grid.scorer_\n",
    "\n",
    "# Print the name of the scoring function\n",
    "print(scorer._score_func.__name__)"
   ]
  },
  {
   "cell_type": "code",
   "execution_count": 21,
   "id": "d41c6520-b82a-4ea1-ad0f-b129c0ab3ac8",
   "metadata": {
    "tags": []
   },
   "outputs": [
    {
     "name": "stdout",
     "output_type": "stream",
     "text": [
      "MSE: 690381.1708732923, MAE: 501.30364072102617, Accuracy: 0.9532394414456289\n"
     ]
    }
   ],
   "source": [
    "model = RandomForestRegressor(max_depth=None, max_features=8, min_samples_leaf=2, min_samples_split=4, n_estimators=50)\n",
    "model.fit(X_train, y_train)\n",
    "preds = model.predict(X_test)\n",
    "mae = mean_absolute_error(y_test, preds)\n",
    "mse = mean_squared_error(y_test, preds)\n",
    "accuracy = model.score(X_test, y_test)\n",
    "print(\"MSE: \" + str(mse) + \", MAE: \" + str(mae) + \", Accuracy: \" + str(accuracy))"
   ]
  },
  {
   "cell_type": "code",
   "execution_count": 22,
   "id": "04ac7758-1177-4542-8bb0-6a45791cbe6e",
   "metadata": {
    "tags": []
   },
   "outputs": [
    {
     "data": {
      "text/plain": [
       "['rf_model.pkl']"
      ]
     },
     "execution_count": 22,
     "metadata": {},
     "output_type": "execute_result"
    }
   ],
   "source": [
    "import joblib\n",
    "joblib.dump(model, 'rf_model.pkl')"
   ]
  },
  {
   "cell_type": "markdown",
   "id": "e666791a-aaed-412c-95de-63f109791b57",
   "metadata": {},
   "source": [
    "The model that yielded the best performance has the following parameters:\n",
    "\n",
    "`{'max_depth': None, 'max_features': 8, 'min_samples_leaf': 2, 'min_samples_split': 4, 'n_estimators': 50}`"
   ]
  },
  {
   "cell_type": "markdown",
   "id": "4fb28ce2-3309-42aa-91bf-ea0792f6890a",
   "metadata": {},
   "source": [
    "However, despite having a higher model score, the size of the model file is around 1.06GB, and thus is too heavy for the project. Setting the max_depth to `None` allowed a better performance, but also a more complex and bigger model. "
   ]
  },
  {
   "cell_type": "markdown",
   "id": "86ca80b9-d06c-4901-a4df-0c8aa4cd1911",
   "metadata": {},
   "source": [
    "Will generate another test, but limiting `max_depth` to `10`"
   ]
  },
  {
   "cell_type": "markdown",
   "id": "fcd80b3e-30fa-4fa1-add0-af52dc61dff9",
   "metadata": {},
   "source": [
    "# Test 3"
   ]
  },
  {
   "cell_type": "code",
   "execution_count": 24,
   "id": "57e1bb90-b123-42c3-b283-59a0c8ed9a79",
   "metadata": {
    "tags": []
   },
   "outputs": [
    {
     "name": "stdout",
     "output_type": "stream",
     "text": [
      "Best grid search hyperparameters are: {'max_depth': 10, 'max_features': 8, 'min_samples_leaf': 2, 'min_samples_split': 4, 'n_estimators': 50}\n",
      "Best grid search score is: -1537641.0671909933\n"
     ]
    }
   ],
   "source": [
    "# grid search cv\n",
    "grid_space={'max_depth':[10],\n",
    "              'n_estimators':[20,50,100],\n",
    "              'max_features':[7,8],\n",
    "              'min_samples_leaf':[2],\n",
    "              'min_samples_split':[3,4]\n",
    "           }\n",
    "rf = RandomForestRegressor()\n",
    "\n",
    "scoring = make_scorer(mean_squared_error, greater_is_better=False)\n",
    "\n",
    "grid2 = GridSearchCV(rf,param_grid=grid_space,cv=3,scoring=scoring)\n",
    "model_grid2 = grid2.fit(X_train, y_train)\n",
    "\n",
    "# grid search results\n",
    "print('Best grid search hyperparameters are: '+str(model_grid2.best_params_))\n",
    "print('Best grid search score is: '+str(model_grid2.best_score_))"
   ]
  },
  {
   "cell_type": "code",
   "execution_count": 27,
   "id": "c23251a1-a931-4ef0-a4c4-c3e6bd36b42e",
   "metadata": {
    "tags": []
   },
   "outputs": [
    {
     "name": "stdout",
     "output_type": "stream",
     "text": [
      "{'max_depth': 10, 'max_features': 7, 'min_samples_leaf': 2, 'min_samples_split': 3, 'n_estimators': 20} -1554248.023236744\n",
      "{'max_depth': 10, 'max_features': 7, 'min_samples_leaf': 2, 'min_samples_split': 3, 'n_estimators': 50} -1549567.0141184626\n",
      "{'max_depth': 10, 'max_features': 7, 'min_samples_leaf': 2, 'min_samples_split': 3, 'n_estimators': 100} -1550070.679575693\n",
      "{'max_depth': 10, 'max_features': 7, 'min_samples_leaf': 2, 'min_samples_split': 4, 'n_estimators': 20} -1552327.6755637068\n",
      "{'max_depth': 10, 'max_features': 7, 'min_samples_leaf': 2, 'min_samples_split': 4, 'n_estimators': 50} -1551188.322520351\n",
      "{'max_depth': 10, 'max_features': 7, 'min_samples_leaf': 2, 'min_samples_split': 4, 'n_estimators': 100} -1551095.510245063\n",
      "{'max_depth': 10, 'max_features': 8, 'min_samples_leaf': 2, 'min_samples_split': 3, 'n_estimators': 20} -1543444.5743767011\n",
      "{'max_depth': 10, 'max_features': 8, 'min_samples_leaf': 2, 'min_samples_split': 3, 'n_estimators': 50} -1540162.1470523623\n",
      "{'max_depth': 10, 'max_features': 8, 'min_samples_leaf': 2, 'min_samples_split': 3, 'n_estimators': 100} -1538748.9951498385\n",
      "{'max_depth': 10, 'max_features': 8, 'min_samples_leaf': 2, 'min_samples_split': 4, 'n_estimators': 20} -1542109.7540050482\n",
      "{'max_depth': 10, 'max_features': 8, 'min_samples_leaf': 2, 'min_samples_split': 4, 'n_estimators': 50} -1537641.0671909933\n",
      "{'max_depth': 10, 'max_features': 8, 'min_samples_leaf': 2, 'min_samples_split': 4, 'n_estimators': 100} -1537691.7078624063\n",
      "mean_squared_error\n"
     ]
    }
   ],
   "source": [
    "cv_results = grid2.cv_results_\n",
    "\n",
    "# Print the mean test score for each combination of hyperparameters\n",
    "for i in range(len(cv_results['params'])):\n",
    "    print(cv_results['params'][i], cv_results['mean_test_score'][i])\n",
    "\n",
    "# Access the scorer_ attribute\n",
    "scorer = grid2.scorer_\n",
    "\n",
    "# Print the name of the scoring function\n",
    "print(scorer._score_func.__name__)"
   ]
  },
  {
   "cell_type": "code",
   "execution_count": 25,
   "id": "f84ad4a9-842a-4a40-8d51-986dda585834",
   "metadata": {
    "tags": []
   },
   "outputs": [
    {
     "name": "stdout",
     "output_type": "stream",
     "text": [
      "MSE: 1552958.9815059013, MAE: 836.2800412508706, Accuracy: 0.8948157446191839\n"
     ]
    }
   ],
   "source": [
    "model = RandomForestRegressor(max_depth=10, max_features=8, min_samples_leaf=2, min_samples_split=4, n_estimators=50)\n",
    "model.fit(X_train, y_train)\n",
    "preds = model.predict(X_test)\n",
    "mae = mean_absolute_error(y_test, preds)\n",
    "mse = mean_squared_error(y_test, preds)\n",
    "accuracy = model.score(X_test, y_test)\n",
    "print(\"MSE: \" + str(mse) + \", MAE: \" + str(mae) + \", Accuracy: \" + str(accuracy))"
   ]
  },
  {
   "cell_type": "code",
   "execution_count": 28,
   "id": "d3ebe327-dea4-466c-b4b7-a9b38d878dc3",
   "metadata": {
    "tags": []
   },
   "outputs": [
    {
     "data": {
      "text/plain": [
       "['rf_model.pkl']"
      ]
     },
     "execution_count": 28,
     "metadata": {},
     "output_type": "execute_result"
    }
   ],
   "source": [
    "import joblib\n",
    "joblib.dump(model, 'rf_model.pkl')"
   ]
  },
  {
   "cell_type": "code",
   "execution_count": 29,
   "id": "8ba540fa-1a2c-4957-9d56-33bdb14f840d",
   "metadata": {
    "tags": []
   },
   "outputs": [
    {
     "data": {
      "text/plain": [
       "['grid_search_3.pkl']"
      ]
     },
     "execution_count": 29,
     "metadata": {},
     "output_type": "execute_result"
    }
   ],
   "source": [
    "joblib.dump(grid, 'grid_search_2.pkl')\n",
    "joblib.dump(grid2, 'grid_search_3.pkl')"
   ]
  },
  {
   "cell_type": "code",
   "execution_count": null,
   "id": "e04431af-2155-485a-936b-d1b9f9af3484",
   "metadata": {},
   "outputs": [],
   "source": []
  }
 ],
 "metadata": {
  "kernelspec": {
   "display_name": "Python 3 (ipykernel)",
   "language": "python",
   "name": "python3"
  },
  "language_info": {
   "codemirror_mode": {
    "name": "ipython",
    "version": 3
   },
   "file_extension": ".py",
   "mimetype": "text/x-python",
   "name": "python",
   "nbconvert_exporter": "python",
   "pygments_lexer": "ipython3",
   "version": "3.8.2"
  }
 },
 "nbformat": 4,
 "nbformat_minor": 5
}
