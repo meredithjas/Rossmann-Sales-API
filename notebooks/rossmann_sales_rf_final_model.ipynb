{
 "cells": [
  {
   "cell_type": "code",
   "execution_count": 1,
   "id": "49621151-c07e-4935-9ec4-0be1898894ec",
   "metadata": {
    "tags": []
   },
   "outputs": [],
   "source": [
    "import datetime\n",
    "import json\n",
    "import numpy as np\n",
    "import pandas as pd\n",
    "\n",
    "from datetime import datetime\n",
    "from sklearn.ensemble import RandomForestRegressor\n",
    "from sklearn.metrics import mean_squared_error, mean_absolute_error\n",
    "from sklearn.model_selection import train_test_split"
   ]
  },
  {
   "cell_type": "markdown",
   "id": "fd3e97ce-f7fd-47d0-b3dd-99dda2e097e1",
   "metadata": {},
   "source": [
    "# Data Exploration"
   ]
  },
  {
   "cell_type": "code",
   "execution_count": 2,
   "id": "3bd8b2fd-cc17-40f6-ab8a-afca4e8f4f9f",
   "metadata": {
    "tags": []
   },
   "outputs": [],
   "source": [
    "store_data = pd.read_csv(\"../data/store.csv\")"
   ]
  },
  {
   "cell_type": "code",
   "execution_count": 3,
   "id": "f8cb85a4-7f65-4053-b9eb-f89f678a670d",
   "metadata": {
    "tags": []
   },
   "outputs": [
    {
     "name": "stderr",
     "output_type": "stream",
     "text": [
      "/var/folders/h6/yd92lr9j5wz6x8bvzgh5btj80000gn/T/ipykernel_65088/671168194.py:1: DtypeWarning: Columns (7) have mixed types. Specify dtype option on import or set low_memory=False.\n",
      "  train_data = pd.read_csv(\"../data/train.csv\")\n"
     ]
    }
   ],
   "source": [
    "train_data = pd.read_csv(\"../data/train.csv\")"
   ]
  },
  {
   "cell_type": "code",
   "execution_count": 4,
   "id": "2d14925d-e906-453b-a88b-39c0b0547367",
   "metadata": {
    "tags": []
   },
   "outputs": [
    {
     "name": "stdout",
     "output_type": "stream",
     "text": [
      "<class 'pandas.core.frame.DataFrame'>\n",
      "RangeIndex: 1115 entries, 0 to 1114\n",
      "Data columns (total 10 columns):\n",
      " #   Column                     Non-Null Count  Dtype  \n",
      "---  ------                     --------------  -----  \n",
      " 0   Store                      1115 non-null   int64  \n",
      " 1   StoreType                  1115 non-null   object \n",
      " 2   Assortment                 1115 non-null   object \n",
      " 3   CompetitionDistance        1112 non-null   float64\n",
      " 4   CompetitionOpenSinceMonth  761 non-null    float64\n",
      " 5   CompetitionOpenSinceYear   761 non-null    float64\n",
      " 6   Promo2                     1115 non-null   int64  \n",
      " 7   Promo2SinceWeek            571 non-null    float64\n",
      " 8   Promo2SinceYear            571 non-null    float64\n",
      " 9   PromoInterval              571 non-null    object \n",
      "dtypes: float64(5), int64(2), object(3)\n",
      "memory usage: 87.2+ KB\n"
     ]
    }
   ],
   "source": [
    "store_data.info()"
   ]
  },
  {
   "cell_type": "code",
   "execution_count": 5,
   "id": "827b292b-5548-428d-91b3-3c8c0d059816",
   "metadata": {
    "tags": []
   },
   "outputs": [
    {
     "name": "stdout",
     "output_type": "stream",
     "text": [
      "<class 'pandas.core.frame.DataFrame'>\n",
      "RangeIndex: 914629 entries, 0 to 914628\n",
      "Data columns (total 9 columns):\n",
      " #   Column         Non-Null Count   Dtype \n",
      "---  ------         --------------   ----- \n",
      " 0   Store          914629 non-null  int64 \n",
      " 1   DayOfWeek      914629 non-null  int64 \n",
      " 2   Date           914629 non-null  object\n",
      " 3   Sales          914629 non-null  int64 \n",
      " 4   Customers      914629 non-null  int64 \n",
      " 5   Open           914629 non-null  int64 \n",
      " 6   Promo          914629 non-null  int64 \n",
      " 7   StateHoliday   914629 non-null  object\n",
      " 8   SchoolHoliday  914629 non-null  int64 \n",
      "dtypes: int64(7), object(2)\n",
      "memory usage: 62.8+ MB\n"
     ]
    }
   ],
   "source": [
    "train_data.info()"
   ]
  },
  {
   "cell_type": "markdown",
   "id": "3259b3a7-2dee-453e-8312-dd64ab32da0b",
   "metadata": {},
   "source": [
    "According to our sales prediction problem, the input values are Store, DayOfWeek, Date, Customers, Open, Promo, StateHoliday, SchoolHoliday, and Sales."
   ]
  },
  {
   "cell_type": "markdown",
   "id": "ec44f93a-0890-4bac-aedb-8d4917bd01b9",
   "metadata": {
    "tags": []
   },
   "source": [
    "Based on the dataframes info, we'll only consider `train_data` df, and assign it as `sales_data`"
   ]
  },
  {
   "cell_type": "code",
   "execution_count": 6,
   "id": "f2078cd2-6954-4354-bd39-100328fb638e",
   "metadata": {
    "tags": []
   },
   "outputs": [],
   "source": [
    "sales_data = train_data"
   ]
  },
  {
   "cell_type": "code",
   "execution_count": 7,
   "id": "3ef785c9-d11f-4ad8-b473-0d0d7e8eb96b",
   "metadata": {
    "tags": []
   },
   "outputs": [
    {
     "data": {
      "text/html": [
       "<div>\n",
       "<style scoped>\n",
       "    .dataframe tbody tr th:only-of-type {\n",
       "        vertical-align: middle;\n",
       "    }\n",
       "\n",
       "    .dataframe tbody tr th {\n",
       "        vertical-align: top;\n",
       "    }\n",
       "\n",
       "    .dataframe thead th {\n",
       "        text-align: right;\n",
       "    }\n",
       "</style>\n",
       "<table border=\"1\" class=\"dataframe\">\n",
       "  <thead>\n",
       "    <tr style=\"text-align: right;\">\n",
       "      <th></th>\n",
       "      <th>Store</th>\n",
       "      <th>DayOfWeek</th>\n",
       "      <th>Date</th>\n",
       "      <th>Sales</th>\n",
       "      <th>Customers</th>\n",
       "      <th>Open</th>\n",
       "      <th>Promo</th>\n",
       "      <th>StateHoliday</th>\n",
       "      <th>SchoolHoliday</th>\n",
       "    </tr>\n",
       "  </thead>\n",
       "  <tbody>\n",
       "    <tr>\n",
       "      <th>0</th>\n",
       "      <td>1</td>\n",
       "      <td>4</td>\n",
       "      <td>2015-04-30</td>\n",
       "      <td>6228</td>\n",
       "      <td>650</td>\n",
       "      <td>1</td>\n",
       "      <td>1</td>\n",
       "      <td>0</td>\n",
       "      <td>0</td>\n",
       "    </tr>\n",
       "    <tr>\n",
       "      <th>1</th>\n",
       "      <td>2</td>\n",
       "      <td>4</td>\n",
       "      <td>2015-04-30</td>\n",
       "      <td>6884</td>\n",
       "      <td>716</td>\n",
       "      <td>1</td>\n",
       "      <td>1</td>\n",
       "      <td>0</td>\n",
       "      <td>0</td>\n",
       "    </tr>\n",
       "    <tr>\n",
       "      <th>2</th>\n",
       "      <td>3</td>\n",
       "      <td>4</td>\n",
       "      <td>2015-04-30</td>\n",
       "      <td>9971</td>\n",
       "      <td>979</td>\n",
       "      <td>1</td>\n",
       "      <td>1</td>\n",
       "      <td>0</td>\n",
       "      <td>0</td>\n",
       "    </tr>\n",
       "    <tr>\n",
       "      <th>3</th>\n",
       "      <td>4</td>\n",
       "      <td>4</td>\n",
       "      <td>2015-04-30</td>\n",
       "      <td>16106</td>\n",
       "      <td>1854</td>\n",
       "      <td>1</td>\n",
       "      <td>1</td>\n",
       "      <td>0</td>\n",
       "      <td>0</td>\n",
       "    </tr>\n",
       "    <tr>\n",
       "      <th>4</th>\n",
       "      <td>5</td>\n",
       "      <td>4</td>\n",
       "      <td>2015-04-30</td>\n",
       "      <td>6598</td>\n",
       "      <td>729</td>\n",
       "      <td>1</td>\n",
       "      <td>1</td>\n",
       "      <td>0</td>\n",
       "      <td>0</td>\n",
       "    </tr>\n",
       "  </tbody>\n",
       "</table>\n",
       "</div>"
      ],
      "text/plain": [
       "   Store  DayOfWeek        Date  Sales  Customers  Open  Promo StateHoliday  \\\n",
       "0      1          4  2015-04-30   6228        650     1      1            0   \n",
       "1      2          4  2015-04-30   6884        716     1      1            0   \n",
       "2      3          4  2015-04-30   9971        979     1      1            0   \n",
       "3      4          4  2015-04-30  16106       1854     1      1            0   \n",
       "4      5          4  2015-04-30   6598        729     1      1            0   \n",
       "\n",
       "   SchoolHoliday  \n",
       "0              0  \n",
       "1              0  \n",
       "2              0  \n",
       "3              0  \n",
       "4              0  "
      ]
     },
     "execution_count": 7,
     "metadata": {},
     "output_type": "execute_result"
    }
   ],
   "source": [
    "sales_data.head()"
   ]
  },
  {
   "cell_type": "markdown",
   "id": "8680c46b-647e-4979-a879-62d2a59c10da",
   "metadata": {},
   "source": [
    "# Feature Engineering"
   ]
  },
  {
   "cell_type": "markdown",
   "id": "c66d3d47-46ad-46d7-b8ad-eb5e44f8ef1c",
   "metadata": {},
   "source": [
    "Splitting date into Year, Month, Day"
   ]
  },
  {
   "cell_type": "code",
   "execution_count": 8,
   "id": "d0a8dce3-ebae-4e0e-87c7-8eab4e4242ff",
   "metadata": {
    "tags": []
   },
   "outputs": [],
   "source": [
    "import datetime\n",
    "\n",
    "# convert date column to datetime type\n",
    "sales_data['Date'] = pd.to_datetime(sales_data['Date'])\n",
    "\n",
    "# create new columns for year, month, and day of week\n",
    "sales_data['Year'] = sales_data['Date'].dt.year\n",
    "sales_data['Month'] = sales_data['Date'].dt.month\n",
    "sales_data['Day'] = sales_data['Date'].dt.day"
   ]
  },
  {
   "cell_type": "code",
   "execution_count": 9,
   "id": "2317472b-f62d-4726-85bb-4fc74ed82f5e",
   "metadata": {
    "tags": []
   },
   "outputs": [
    {
     "name": "stdout",
     "output_type": "stream",
     "text": [
      "<class 'pandas.core.frame.DataFrame'>\n",
      "RangeIndex: 914629 entries, 0 to 914628\n",
      "Data columns (total 12 columns):\n",
      " #   Column         Non-Null Count   Dtype         \n",
      "---  ------         --------------   -----         \n",
      " 0   Store          914629 non-null  int64         \n",
      " 1   DayOfWeek      914629 non-null  int64         \n",
      " 2   Date           914629 non-null  datetime64[ns]\n",
      " 3   Sales          914629 non-null  int64         \n",
      " 4   Customers      914629 non-null  int64         \n",
      " 5   Open           914629 non-null  int64         \n",
      " 6   Promo          914629 non-null  int64         \n",
      " 7   StateHoliday   914629 non-null  object        \n",
      " 8   SchoolHoliday  914629 non-null  int64         \n",
      " 9   Year           914629 non-null  int64         \n",
      " 10  Month          914629 non-null  int64         \n",
      " 11  Day            914629 non-null  int64         \n",
      "dtypes: datetime64[ns](1), int64(10), object(1)\n",
      "memory usage: 83.7+ MB\n"
     ]
    }
   ],
   "source": [
    "sales_data.info()"
   ]
  },
  {
   "cell_type": "markdown",
   "id": "a3cfac2f-a3db-467d-bd22-42df9af102da",
   "metadata": {},
   "source": [
    "Converting StateHoliday to int"
   ]
  },
  {
   "cell_type": "code",
   "execution_count": 10,
   "id": "0205ec45-c994-40d0-8558-a856fe2b0102",
   "metadata": {
    "tags": []
   },
   "outputs": [
    {
     "data": {
      "text/plain": [
       "array(['0', 'b', 'a', 'c', 0], dtype=object)"
      ]
     },
     "execution_count": 10,
     "metadata": {},
     "output_type": "execute_result"
    }
   ],
   "source": [
    "sales_data['StateHoliday'].unique()"
   ]
  },
  {
   "cell_type": "code",
   "execution_count": 11,
   "id": "f561bed4-2b63-48a7-9d12-5048ceecd730",
   "metadata": {
    "tags": []
   },
   "outputs": [
    {
     "data": {
      "text/plain": [
       "array([0, 2, 1, 3])"
      ]
     },
     "execution_count": 11,
     "metadata": {},
     "output_type": "execute_result"
    }
   ],
   "source": [
    "sales_data['StateHoliday'] = sales_data['StateHoliday'].replace({'0': 0, 'a': 1, 'b': 2, 'c': 3})\n",
    "sales_data['StateHoliday'].unique()"
   ]
  },
  {
   "cell_type": "code",
   "execution_count": 12,
   "id": "51bb7239-157e-4242-97e0-028273ce7807",
   "metadata": {
    "tags": []
   },
   "outputs": [
    {
     "data": {
      "text/html": [
       "<div>\n",
       "<style scoped>\n",
       "    .dataframe tbody tr th:only-of-type {\n",
       "        vertical-align: middle;\n",
       "    }\n",
       "\n",
       "    .dataframe tbody tr th {\n",
       "        vertical-align: top;\n",
       "    }\n",
       "\n",
       "    .dataframe thead th {\n",
       "        text-align: right;\n",
       "    }\n",
       "</style>\n",
       "<table border=\"1\" class=\"dataframe\">\n",
       "  <thead>\n",
       "    <tr style=\"text-align: right;\">\n",
       "      <th></th>\n",
       "      <th>Store</th>\n",
       "      <th>DayOfWeek</th>\n",
       "      <th>Date</th>\n",
       "      <th>Sales</th>\n",
       "      <th>Customers</th>\n",
       "      <th>Open</th>\n",
       "      <th>Promo</th>\n",
       "      <th>StateHoliday</th>\n",
       "      <th>SchoolHoliday</th>\n",
       "      <th>Year</th>\n",
       "      <th>Month</th>\n",
       "      <th>Day</th>\n",
       "    </tr>\n",
       "  </thead>\n",
       "  <tbody>\n",
       "    <tr>\n",
       "      <th>0</th>\n",
       "      <td>1</td>\n",
       "      <td>4</td>\n",
       "      <td>2015-04-30</td>\n",
       "      <td>6228</td>\n",
       "      <td>650</td>\n",
       "      <td>1</td>\n",
       "      <td>1</td>\n",
       "      <td>0</td>\n",
       "      <td>0</td>\n",
       "      <td>2015</td>\n",
       "      <td>4</td>\n",
       "      <td>30</td>\n",
       "    </tr>\n",
       "    <tr>\n",
       "      <th>1</th>\n",
       "      <td>2</td>\n",
       "      <td>4</td>\n",
       "      <td>2015-04-30</td>\n",
       "      <td>6884</td>\n",
       "      <td>716</td>\n",
       "      <td>1</td>\n",
       "      <td>1</td>\n",
       "      <td>0</td>\n",
       "      <td>0</td>\n",
       "      <td>2015</td>\n",
       "      <td>4</td>\n",
       "      <td>30</td>\n",
       "    </tr>\n",
       "    <tr>\n",
       "      <th>2</th>\n",
       "      <td>3</td>\n",
       "      <td>4</td>\n",
       "      <td>2015-04-30</td>\n",
       "      <td>9971</td>\n",
       "      <td>979</td>\n",
       "      <td>1</td>\n",
       "      <td>1</td>\n",
       "      <td>0</td>\n",
       "      <td>0</td>\n",
       "      <td>2015</td>\n",
       "      <td>4</td>\n",
       "      <td>30</td>\n",
       "    </tr>\n",
       "    <tr>\n",
       "      <th>3</th>\n",
       "      <td>4</td>\n",
       "      <td>4</td>\n",
       "      <td>2015-04-30</td>\n",
       "      <td>16106</td>\n",
       "      <td>1854</td>\n",
       "      <td>1</td>\n",
       "      <td>1</td>\n",
       "      <td>0</td>\n",
       "      <td>0</td>\n",
       "      <td>2015</td>\n",
       "      <td>4</td>\n",
       "      <td>30</td>\n",
       "    </tr>\n",
       "    <tr>\n",
       "      <th>4</th>\n",
       "      <td>5</td>\n",
       "      <td>4</td>\n",
       "      <td>2015-04-30</td>\n",
       "      <td>6598</td>\n",
       "      <td>729</td>\n",
       "      <td>1</td>\n",
       "      <td>1</td>\n",
       "      <td>0</td>\n",
       "      <td>0</td>\n",
       "      <td>2015</td>\n",
       "      <td>4</td>\n",
       "      <td>30</td>\n",
       "    </tr>\n",
       "  </tbody>\n",
       "</table>\n",
       "</div>"
      ],
      "text/plain": [
       "   Store  DayOfWeek       Date  Sales  Customers  Open  Promo  StateHoliday  \\\n",
       "0      1          4 2015-04-30   6228        650     1      1             0   \n",
       "1      2          4 2015-04-30   6884        716     1      1             0   \n",
       "2      3          4 2015-04-30   9971        979     1      1             0   \n",
       "3      4          4 2015-04-30  16106       1854     1      1             0   \n",
       "4      5          4 2015-04-30   6598        729     1      1             0   \n",
       "\n",
       "   SchoolHoliday  Year  Month  Day  \n",
       "0              0  2015      4   30  \n",
       "1              0  2015      4   30  \n",
       "2              0  2015      4   30  \n",
       "3              0  2015      4   30  \n",
       "4              0  2015      4   30  "
      ]
     },
     "execution_count": 12,
     "metadata": {},
     "output_type": "execute_result"
    }
   ],
   "source": [
    "sales_data.head()"
   ]
  },
  {
   "cell_type": "markdown",
   "id": "91d0e927-f136-488c-a1d8-ea70dee799af",
   "metadata": {},
   "source": [
    "## Feature Selection"
   ]
  },
  {
   "cell_type": "markdown",
   "id": "1144a626-6e18-4389-b6b0-8fff3fb84fd6",
   "metadata": {},
   "source": [
    "Since some stores are closed for refurbishment — and thus will have no sales — OPEN feature will not be considered"
   ]
  },
  {
   "cell_type": "code",
   "execution_count": 13,
   "id": "197d56fd-c813-4580-bfc4-cb63a0ee62be",
   "metadata": {
    "tags": []
   },
   "outputs": [],
   "source": [
    "features = ['Store', 'DayOfWeek', 'Customers', 'Promo', 'StateHoliday', 'SchoolHoliday', 'Year', 'Month', 'Day']"
   ]
  },
  {
   "cell_type": "code",
   "execution_count": 14,
   "id": "86856e21-48f6-422b-99e7-c039f159a1de",
   "metadata": {
    "tags": []
   },
   "outputs": [],
   "source": [
    "X = sales_data[features]"
   ]
  },
  {
   "cell_type": "code",
   "execution_count": 15,
   "id": "93567da2-6f0c-4ba9-b04a-950f61abbb84",
   "metadata": {
    "tags": []
   },
   "outputs": [],
   "source": [
    "y = sales_data.Sales"
   ]
  },
  {
   "cell_type": "markdown",
   "id": "c1093358-5545-41dd-88a9-89c1fd6b6531",
   "metadata": {},
   "source": [
    "# Model Building"
   ]
  },
  {
   "cell_type": "markdown",
   "id": "e44c97f0-5ff0-4e9f-bb77-0b4ceeb051e9",
   "metadata": {},
   "source": [
    "## Train-Test Split"
   ]
  },
  {
   "cell_type": "code",
   "execution_count": 16,
   "id": "43604a3c-2a65-43c5-a7cd-876b209a391b",
   "metadata": {
    "tags": []
   },
   "outputs": [],
   "source": [
    "X_train, X_test, y_train, y_test = train_test_split(X, y, train_size=0.8, test_size=0.2, random_state=0)"
   ]
  },
  {
   "cell_type": "markdown",
   "id": "00d2dd2a-5aa9-46d1-b431-c6f05ab6709f",
   "metadata": {},
   "source": [
    "## Hyperparameter Tuning"
   ]
  },
  {
   "cell_type": "markdown",
   "id": "691ae8c2-59f4-4e77-88b1-95a9f4c7c9cd",
   "metadata": {},
   "source": [
    "Based on the Grid Search that tested the following combinations:\n",
    "\n",
    "`grid_space={'max_depth':[3,7,10], 'n_estimators':[5,10,20], 'max_features':[1,5,7], 'min_samples_leaf':[1,2,3], 'min_samples_split':[1,2,3]}`\n",
    "\n",
    "The model with hyperparameters:\n",
    "\n",
    "`{'max_depth': 10, 'max_features': 7, 'min_samples_leaf': 2, 'min_samples_split': 3, 'n_estimators': 20}`\n",
    "\n",
    "yielded the best score (mean squared error)"
   ]
  },
  {
   "cell_type": "markdown",
   "id": "008ac062-e0c3-4803-94a6-c105be92f1f1",
   "metadata": {},
   "source": [
    "## Model Evaluation"
   ]
  },
  {
   "cell_type": "code",
   "execution_count": 17,
   "id": "d41c6520-b82a-4ea1-ad0f-b129c0ab3ac8",
   "metadata": {
    "tags": []
   },
   "outputs": [
    {
     "name": "stdout",
     "output_type": "stream",
     "text": [
      "MSE: 1563896.4657481278, MAE: 839.4276261476954, Accuracy: 0.8940749323057495\n"
     ]
    }
   ],
   "source": [
    "model = RandomForestRegressor(max_depth=10, max_features=7, min_samples_leaf=2, min_samples_split=3, n_estimators=20)\n",
    "model.fit(X_train, y_train)\n",
    "preds = model.predict(X_test)\n",
    "mae = mean_absolute_error(y_test, preds)\n",
    "mse = mean_squared_error(y_test, preds)\n",
    "accuracy = model.score(X_test, y_test)\n",
    "print(\"MSE: \" + str(mse) + \", MAE: \" + str(mae) + \", Accuracy: \" + str(accuracy))"
   ]
  },
  {
   "cell_type": "markdown",
   "id": "fbc4b3f3-e558-430c-98c8-7adb366ca34f",
   "metadata": {},
   "source": [
    "# Model Test"
   ]
  },
  {
   "cell_type": "code",
   "execution_count": 18,
   "id": "04ac7758-1177-4542-8bb0-6a45791cbe6e",
   "metadata": {
    "tags": []
   },
   "outputs": [
    {
     "data": {
      "text/plain": [
       "['rf_model.pkl']"
      ]
     },
     "execution_count": 18,
     "metadata": {},
     "output_type": "execute_result"
    }
   ],
   "source": [
    "# Exporting model\n",
    "import joblib\n",
    "joblib.dump(model, 'rf_model.pkl')"
   ]
  },
  {
   "cell_type": "code",
   "execution_count": 19,
   "id": "ffa068ab-96ee-456f-9ee0-8de04a30fb4c",
   "metadata": {
    "tags": []
   },
   "outputs": [],
   "source": [
    "# Loading the model\n",
    "test_model = joblib.load('rf_model.pkl')"
   ]
  },
  {
   "cell_type": "code",
   "execution_count": 20,
   "id": "b65f8bee-c676-47c7-8c9e-7e22f52bfebf",
   "metadata": {
    "tags": []
   },
   "outputs": [],
   "source": [
    "json_input = {\"Store\":1111, \"DayOfWeek\":4, \"Date\":\"2014-07-10\", \"Customers\":410, \"Open\":1, \"Promo\":0, \"StateHoliday\":\"0\", \"SchoolHoliday\":1}\n",
    "json_str = json.dumps(json_input)"
   ]
  },
  {
   "cell_type": "code",
   "execution_count": 21,
   "id": "767e1c2f-d540-46a1-afb9-57e03f1d9e40",
   "metadata": {
    "tags": []
   },
   "outputs": [],
   "source": [
    "def preprocess_data(json_data):\n",
    "    # Convert JSON to a Python dictionary\n",
    "    data = json.loads(json_data)\n",
    "\n",
    "    # Extract the date string\n",
    "    date_string = data['Date']\n",
    "\n",
    "    # Convert the date string to a datetime object\n",
    "    date_obj = datetime.datetime.strptime(date_string, '%Y-%m-%d')\n",
    "\n",
    "    # Extract the year, month, and day from the datetime object\n",
    "    data['Year'] = date_obj.year\n",
    "    data['Month'] = date_obj.month\n",
    "    data['Day'] = date_obj.day\n",
    "    \n",
    "    state_holiday_map = {'0': 0, 'a': 1, 'b': 2, 'c': 3}\n",
    "    data['StateHoliday'] = state_holiday_map.get(data['StateHoliday'], data['StateHoliday'])\n",
    "    \n",
    "    del data['Date']\n",
    "    del data['Open']\n",
    "\n",
    "    return data"
   ]
  },
  {
   "cell_type": "code",
   "execution_count": 22,
   "id": "bb08ccd4-1002-40dc-ae5a-909074844da7",
   "metadata": {
    "tags": []
   },
   "outputs": [],
   "source": [
    "input_preprocess = preprocess_data(json_str)"
   ]
  },
  {
   "cell_type": "code",
   "execution_count": 23,
   "id": "474da281-603a-4c44-9733-78547d070aab",
   "metadata": {
    "tags": []
   },
   "outputs": [],
   "source": [
    "input_dataframe = pd.DataFrame.from_records([input_preprocess])"
   ]
  },
  {
   "cell_type": "code",
   "execution_count": 24,
   "id": "3f83d3fb-2f37-4193-9c0b-7221cf712e1a",
   "metadata": {
    "tags": []
   },
   "outputs": [
    {
     "name": "stdout",
     "output_type": "stream",
     "text": [
      "sales:  3972.271263615245\n"
     ]
    }
   ],
   "source": [
    "predictions = test_model.predict(input_dataframe)\n",
    "sales = predictions[0]\n",
    "print (\"sales: \", sales)"
   ]
  }
 ],
 "metadata": {
  "kernelspec": {
   "display_name": "Python 3 (ipykernel)",
   "language": "python",
   "name": "python3"
  },
  "language_info": {
   "codemirror_mode": {
    "name": "ipython",
    "version": 3
   },
   "file_extension": ".py",
   "mimetype": "text/x-python",
   "name": "python",
   "nbconvert_exporter": "python",
   "pygments_lexer": "ipython3",
   "version": "3.8.2"
  }
 },
 "nbformat": 4,
 "nbformat_minor": 5
}
