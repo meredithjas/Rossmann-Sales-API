{
 "cells": [
  {
   "cell_type": "code",
   "execution_count": 1,
   "id": "49621151-c07e-4935-9ec4-0be1898894ec",
   "metadata": {
    "tags": []
   },
   "outputs": [],
   "source": [
    "import pandas as pd\n",
    "from sklearn.model_selection import train_test_split\n",
    "from sklearn.tree import DecisionTreeRegressor\n",
    "from sklearn.linear_model import LinearRegression"
   ]
  },
  {
   "cell_type": "code",
   "execution_count": 2,
   "id": "3bd8b2fd-cc17-40f6-ab8a-afca4e8f4f9f",
   "metadata": {
    "tags": []
   },
   "outputs": [],
   "source": [
    "store_data = pd.read_csv(\"../data/store.csv\")"
   ]
  },
  {
   "cell_type": "code",
   "execution_count": 3,
   "id": "f8cb85a4-7f65-4053-b9eb-f89f678a670d",
   "metadata": {
    "tags": []
   },
   "outputs": [
    {
     "name": "stderr",
     "output_type": "stream",
     "text": [
      "/var/folders/h6/yd92lr9j5wz6x8bvzgh5btj80000gn/T/ipykernel_43058/671168194.py:1: DtypeWarning: Columns (7) have mixed types. Specify dtype option on import or set low_memory=False.\n",
      "  train_data = pd.read_csv(\"../data/train.csv\")\n"
     ]
    }
   ],
   "source": [
    "train_data = pd.read_csv(\"../data/train.csv\")"
   ]
  },
  {
   "cell_type": "code",
   "execution_count": 4,
   "id": "2d14925d-e906-453b-a88b-39c0b0547367",
   "metadata": {
    "tags": []
   },
   "outputs": [
    {
     "name": "stdout",
     "output_type": "stream",
     "text": [
      "<class 'pandas.core.frame.DataFrame'>\n",
      "RangeIndex: 1115 entries, 0 to 1114\n",
      "Data columns (total 10 columns):\n",
      " #   Column                     Non-Null Count  Dtype  \n",
      "---  ------                     --------------  -----  \n",
      " 0   Store                      1115 non-null   int64  \n",
      " 1   StoreType                  1115 non-null   object \n",
      " 2   Assortment                 1115 non-null   object \n",
      " 3   CompetitionDistance        1112 non-null   float64\n",
      " 4   CompetitionOpenSinceMonth  761 non-null    float64\n",
      " 5   CompetitionOpenSinceYear   761 non-null    float64\n",
      " 6   Promo2                     1115 non-null   int64  \n",
      " 7   Promo2SinceWeek            571 non-null    float64\n",
      " 8   Promo2SinceYear            571 non-null    float64\n",
      " 9   PromoInterval              571 non-null    object \n",
      "dtypes: float64(5), int64(2), object(3)\n",
      "memory usage: 87.2+ KB\n"
     ]
    }
   ],
   "source": [
    "store_data.info()"
   ]
  },
  {
   "cell_type": "code",
   "execution_count": 5,
   "id": "827b292b-5548-428d-91b3-3c8c0d059816",
   "metadata": {
    "tags": []
   },
   "outputs": [
    {
     "name": "stdout",
     "output_type": "stream",
     "text": [
      "<class 'pandas.core.frame.DataFrame'>\n",
      "RangeIndex: 914629 entries, 0 to 914628\n",
      "Data columns (total 9 columns):\n",
      " #   Column         Non-Null Count   Dtype \n",
      "---  ------         --------------   ----- \n",
      " 0   Store          914629 non-null  int64 \n",
      " 1   DayOfWeek      914629 non-null  int64 \n",
      " 2   Date           914629 non-null  object\n",
      " 3   Sales          914629 non-null  int64 \n",
      " 4   Customers      914629 non-null  int64 \n",
      " 5   Open           914629 non-null  int64 \n",
      " 6   Promo          914629 non-null  int64 \n",
      " 7   StateHoliday   914629 non-null  object\n",
      " 8   SchoolHoliday  914629 non-null  int64 \n",
      "dtypes: int64(7), object(2)\n",
      "memory usage: 62.8+ MB\n"
     ]
    }
   ],
   "source": [
    "train_data.info()"
   ]
  },
  {
   "cell_type": "code",
   "execution_count": 6,
   "id": "f2078cd2-6954-4354-bd39-100328fb638e",
   "metadata": {
    "tags": []
   },
   "outputs": [],
   "source": [
    "sales_data = train_data"
   ]
  },
  {
   "cell_type": "code",
   "execution_count": 7,
   "id": "d0a8dce3-ebae-4e0e-87c7-8eab4e4242ff",
   "metadata": {
    "tags": []
   },
   "outputs": [],
   "source": [
    "import datetime\n",
    "\n",
    "# convert date column to datetime type\n",
    "sales_data['Date'] = pd.to_datetime(sales_data['Date'])\n",
    "\n",
    "# create new columns for year, month, and day of week\n",
    "sales_data['Year'] = sales_data['Date'].dt.year\n",
    "sales_data['Month'] = sales_data['Date'].dt.month\n",
    "sales_data['Day'] = sales_data['Date'].dt.day"
   ]
  },
  {
   "cell_type": "code",
   "execution_count": 8,
   "id": "3ef785c9-d11f-4ad8-b473-0d0d7e8eb96b",
   "metadata": {
    "tags": []
   },
   "outputs": [
    {
     "data": {
      "text/html": [
       "<div>\n",
       "<style scoped>\n",
       "    .dataframe tbody tr th:only-of-type {\n",
       "        vertical-align: middle;\n",
       "    }\n",
       "\n",
       "    .dataframe tbody tr th {\n",
       "        vertical-align: top;\n",
       "    }\n",
       "\n",
       "    .dataframe thead th {\n",
       "        text-align: right;\n",
       "    }\n",
       "</style>\n",
       "<table border=\"1\" class=\"dataframe\">\n",
       "  <thead>\n",
       "    <tr style=\"text-align: right;\">\n",
       "      <th></th>\n",
       "      <th>Store</th>\n",
       "      <th>DayOfWeek</th>\n",
       "      <th>Date</th>\n",
       "      <th>Sales</th>\n",
       "      <th>Customers</th>\n",
       "      <th>Open</th>\n",
       "      <th>Promo</th>\n",
       "      <th>StateHoliday</th>\n",
       "      <th>SchoolHoliday</th>\n",
       "      <th>Year</th>\n",
       "      <th>Month</th>\n",
       "      <th>Day</th>\n",
       "    </tr>\n",
       "  </thead>\n",
       "  <tbody>\n",
       "    <tr>\n",
       "      <th>0</th>\n",
       "      <td>1</td>\n",
       "      <td>4</td>\n",
       "      <td>2015-04-30</td>\n",
       "      <td>6228</td>\n",
       "      <td>650</td>\n",
       "      <td>1</td>\n",
       "      <td>1</td>\n",
       "      <td>0</td>\n",
       "      <td>0</td>\n",
       "      <td>2015</td>\n",
       "      <td>4</td>\n",
       "      <td>30</td>\n",
       "    </tr>\n",
       "    <tr>\n",
       "      <th>1</th>\n",
       "      <td>2</td>\n",
       "      <td>4</td>\n",
       "      <td>2015-04-30</td>\n",
       "      <td>6884</td>\n",
       "      <td>716</td>\n",
       "      <td>1</td>\n",
       "      <td>1</td>\n",
       "      <td>0</td>\n",
       "      <td>0</td>\n",
       "      <td>2015</td>\n",
       "      <td>4</td>\n",
       "      <td>30</td>\n",
       "    </tr>\n",
       "    <tr>\n",
       "      <th>2</th>\n",
       "      <td>3</td>\n",
       "      <td>4</td>\n",
       "      <td>2015-04-30</td>\n",
       "      <td>9971</td>\n",
       "      <td>979</td>\n",
       "      <td>1</td>\n",
       "      <td>1</td>\n",
       "      <td>0</td>\n",
       "      <td>0</td>\n",
       "      <td>2015</td>\n",
       "      <td>4</td>\n",
       "      <td>30</td>\n",
       "    </tr>\n",
       "    <tr>\n",
       "      <th>3</th>\n",
       "      <td>4</td>\n",
       "      <td>4</td>\n",
       "      <td>2015-04-30</td>\n",
       "      <td>16106</td>\n",
       "      <td>1854</td>\n",
       "      <td>1</td>\n",
       "      <td>1</td>\n",
       "      <td>0</td>\n",
       "      <td>0</td>\n",
       "      <td>2015</td>\n",
       "      <td>4</td>\n",
       "      <td>30</td>\n",
       "    </tr>\n",
       "    <tr>\n",
       "      <th>4</th>\n",
       "      <td>5</td>\n",
       "      <td>4</td>\n",
       "      <td>2015-04-30</td>\n",
       "      <td>6598</td>\n",
       "      <td>729</td>\n",
       "      <td>1</td>\n",
       "      <td>1</td>\n",
       "      <td>0</td>\n",
       "      <td>0</td>\n",
       "      <td>2015</td>\n",
       "      <td>4</td>\n",
       "      <td>30</td>\n",
       "    </tr>\n",
       "  </tbody>\n",
       "</table>\n",
       "</div>"
      ],
      "text/plain": [
       "   Store  DayOfWeek       Date  Sales  Customers  Open  Promo StateHoliday  \\\n",
       "0      1          4 2015-04-30   6228        650     1      1            0   \n",
       "1      2          4 2015-04-30   6884        716     1      1            0   \n",
       "2      3          4 2015-04-30   9971        979     1      1            0   \n",
       "3      4          4 2015-04-30  16106       1854     1      1            0   \n",
       "4      5          4 2015-04-30   6598        729     1      1            0   \n",
       "\n",
       "   SchoolHoliday  Year  Month  Day  \n",
       "0              0  2015      4   30  \n",
       "1              0  2015      4   30  \n",
       "2              0  2015      4   30  \n",
       "3              0  2015      4   30  \n",
       "4              0  2015      4   30  "
      ]
     },
     "execution_count": 8,
     "metadata": {},
     "output_type": "execute_result"
    }
   ],
   "source": [
    "sales_data.head()"
   ]
  },
  {
   "cell_type": "code",
   "execution_count": 9,
   "id": "2317472b-f62d-4726-85bb-4fc74ed82f5e",
   "metadata": {
    "tags": []
   },
   "outputs": [
    {
     "name": "stdout",
     "output_type": "stream",
     "text": [
      "<class 'pandas.core.frame.DataFrame'>\n",
      "RangeIndex: 914629 entries, 0 to 914628\n",
      "Data columns (total 12 columns):\n",
      " #   Column         Non-Null Count   Dtype         \n",
      "---  ------         --------------   -----         \n",
      " 0   Store          914629 non-null  int64         \n",
      " 1   DayOfWeek      914629 non-null  int64         \n",
      " 2   Date           914629 non-null  datetime64[ns]\n",
      " 3   Sales          914629 non-null  int64         \n",
      " 4   Customers      914629 non-null  int64         \n",
      " 5   Open           914629 non-null  int64         \n",
      " 6   Promo          914629 non-null  int64         \n",
      " 7   StateHoliday   914629 non-null  object        \n",
      " 8   SchoolHoliday  914629 non-null  int64         \n",
      " 9   Year           914629 non-null  int64         \n",
      " 10  Month          914629 non-null  int64         \n",
      " 11  Day            914629 non-null  int64         \n",
      "dtypes: datetime64[ns](1), int64(10), object(1)\n",
      "memory usage: 83.7+ MB\n"
     ]
    }
   ],
   "source": [
    "sales_data.info()"
   ]
  },
  {
   "cell_type": "code",
   "execution_count": 10,
   "id": "0205ec45-c994-40d0-8558-a856fe2b0102",
   "metadata": {
    "tags": []
   },
   "outputs": [
    {
     "data": {
      "text/plain": [
       "array(['0', 'b', 'a', 'c', 0], dtype=object)"
      ]
     },
     "execution_count": 10,
     "metadata": {},
     "output_type": "execute_result"
    }
   ],
   "source": [
    "sales_data['StateHoliday'].unique()"
   ]
  },
  {
   "cell_type": "code",
   "execution_count": 11,
   "id": "f561bed4-2b63-48a7-9d12-5048ceecd730",
   "metadata": {
    "tags": []
   },
   "outputs": [],
   "source": [
    "sales_data['StateHoliday'] = sales_data['StateHoliday'].replace({'0': 0, 'a': 1, 'b': 2, 'c': 3})"
   ]
  },
  {
   "cell_type": "code",
   "execution_count": 12,
   "id": "c2c8bd70-ad92-4e95-bcd7-363760400bd7",
   "metadata": {
    "tags": []
   },
   "outputs": [
    {
     "data": {
      "text/plain": [
       "array([0, 2, 1, 3])"
      ]
     },
     "execution_count": 12,
     "metadata": {},
     "output_type": "execute_result"
    }
   ],
   "source": [
    "sales_data['StateHoliday'].unique()"
   ]
  },
  {
   "cell_type": "code",
   "execution_count": 13,
   "id": "51bb7239-157e-4242-97e0-028273ce7807",
   "metadata": {
    "tags": []
   },
   "outputs": [
    {
     "data": {
      "text/html": [
       "<div>\n",
       "<style scoped>\n",
       "    .dataframe tbody tr th:only-of-type {\n",
       "        vertical-align: middle;\n",
       "    }\n",
       "\n",
       "    .dataframe tbody tr th {\n",
       "        vertical-align: top;\n",
       "    }\n",
       "\n",
       "    .dataframe thead th {\n",
       "        text-align: right;\n",
       "    }\n",
       "</style>\n",
       "<table border=\"1\" class=\"dataframe\">\n",
       "  <thead>\n",
       "    <tr style=\"text-align: right;\">\n",
       "      <th></th>\n",
       "      <th>Store</th>\n",
       "      <th>DayOfWeek</th>\n",
       "      <th>Date</th>\n",
       "      <th>Sales</th>\n",
       "      <th>Customers</th>\n",
       "      <th>Open</th>\n",
       "      <th>Promo</th>\n",
       "      <th>StateHoliday</th>\n",
       "      <th>SchoolHoliday</th>\n",
       "      <th>Year</th>\n",
       "      <th>Month</th>\n",
       "      <th>Day</th>\n",
       "    </tr>\n",
       "  </thead>\n",
       "  <tbody>\n",
       "    <tr>\n",
       "      <th>0</th>\n",
       "      <td>1</td>\n",
       "      <td>4</td>\n",
       "      <td>2015-04-30</td>\n",
       "      <td>6228</td>\n",
       "      <td>650</td>\n",
       "      <td>1</td>\n",
       "      <td>1</td>\n",
       "      <td>0</td>\n",
       "      <td>0</td>\n",
       "      <td>2015</td>\n",
       "      <td>4</td>\n",
       "      <td>30</td>\n",
       "    </tr>\n",
       "    <tr>\n",
       "      <th>1</th>\n",
       "      <td>2</td>\n",
       "      <td>4</td>\n",
       "      <td>2015-04-30</td>\n",
       "      <td>6884</td>\n",
       "      <td>716</td>\n",
       "      <td>1</td>\n",
       "      <td>1</td>\n",
       "      <td>0</td>\n",
       "      <td>0</td>\n",
       "      <td>2015</td>\n",
       "      <td>4</td>\n",
       "      <td>30</td>\n",
       "    </tr>\n",
       "    <tr>\n",
       "      <th>2</th>\n",
       "      <td>3</td>\n",
       "      <td>4</td>\n",
       "      <td>2015-04-30</td>\n",
       "      <td>9971</td>\n",
       "      <td>979</td>\n",
       "      <td>1</td>\n",
       "      <td>1</td>\n",
       "      <td>0</td>\n",
       "      <td>0</td>\n",
       "      <td>2015</td>\n",
       "      <td>4</td>\n",
       "      <td>30</td>\n",
       "    </tr>\n",
       "    <tr>\n",
       "      <th>3</th>\n",
       "      <td>4</td>\n",
       "      <td>4</td>\n",
       "      <td>2015-04-30</td>\n",
       "      <td>16106</td>\n",
       "      <td>1854</td>\n",
       "      <td>1</td>\n",
       "      <td>1</td>\n",
       "      <td>0</td>\n",
       "      <td>0</td>\n",
       "      <td>2015</td>\n",
       "      <td>4</td>\n",
       "      <td>30</td>\n",
       "    </tr>\n",
       "    <tr>\n",
       "      <th>4</th>\n",
       "      <td>5</td>\n",
       "      <td>4</td>\n",
       "      <td>2015-04-30</td>\n",
       "      <td>6598</td>\n",
       "      <td>729</td>\n",
       "      <td>1</td>\n",
       "      <td>1</td>\n",
       "      <td>0</td>\n",
       "      <td>0</td>\n",
       "      <td>2015</td>\n",
       "      <td>4</td>\n",
       "      <td>30</td>\n",
       "    </tr>\n",
       "    <tr>\n",
       "      <th>...</th>\n",
       "      <td>...</td>\n",
       "      <td>...</td>\n",
       "      <td>...</td>\n",
       "      <td>...</td>\n",
       "      <td>...</td>\n",
       "      <td>...</td>\n",
       "      <td>...</td>\n",
       "      <td>...</td>\n",
       "      <td>...</td>\n",
       "      <td>...</td>\n",
       "      <td>...</td>\n",
       "      <td>...</td>\n",
       "    </tr>\n",
       "    <tr>\n",
       "      <th>914624</th>\n",
       "      <td>1111</td>\n",
       "      <td>2</td>\n",
       "      <td>2013-01-01</td>\n",
       "      <td>0</td>\n",
       "      <td>0</td>\n",
       "      <td>0</td>\n",
       "      <td>0</td>\n",
       "      <td>1</td>\n",
       "      <td>1</td>\n",
       "      <td>2013</td>\n",
       "      <td>1</td>\n",
       "      <td>1</td>\n",
       "    </tr>\n",
       "    <tr>\n",
       "      <th>914625</th>\n",
       "      <td>1112</td>\n",
       "      <td>2</td>\n",
       "      <td>2013-01-01</td>\n",
       "      <td>0</td>\n",
       "      <td>0</td>\n",
       "      <td>0</td>\n",
       "      <td>0</td>\n",
       "      <td>1</td>\n",
       "      <td>1</td>\n",
       "      <td>2013</td>\n",
       "      <td>1</td>\n",
       "      <td>1</td>\n",
       "    </tr>\n",
       "    <tr>\n",
       "      <th>914626</th>\n",
       "      <td>1113</td>\n",
       "      <td>2</td>\n",
       "      <td>2013-01-01</td>\n",
       "      <td>0</td>\n",
       "      <td>0</td>\n",
       "      <td>0</td>\n",
       "      <td>0</td>\n",
       "      <td>1</td>\n",
       "      <td>1</td>\n",
       "      <td>2013</td>\n",
       "      <td>1</td>\n",
       "      <td>1</td>\n",
       "    </tr>\n",
       "    <tr>\n",
       "      <th>914627</th>\n",
       "      <td>1114</td>\n",
       "      <td>2</td>\n",
       "      <td>2013-01-01</td>\n",
       "      <td>0</td>\n",
       "      <td>0</td>\n",
       "      <td>0</td>\n",
       "      <td>0</td>\n",
       "      <td>1</td>\n",
       "      <td>1</td>\n",
       "      <td>2013</td>\n",
       "      <td>1</td>\n",
       "      <td>1</td>\n",
       "    </tr>\n",
       "    <tr>\n",
       "      <th>914628</th>\n",
       "      <td>1115</td>\n",
       "      <td>2</td>\n",
       "      <td>2013-01-01</td>\n",
       "      <td>0</td>\n",
       "      <td>0</td>\n",
       "      <td>0</td>\n",
       "      <td>0</td>\n",
       "      <td>1</td>\n",
       "      <td>1</td>\n",
       "      <td>2013</td>\n",
       "      <td>1</td>\n",
       "      <td>1</td>\n",
       "    </tr>\n",
       "  </tbody>\n",
       "</table>\n",
       "<p>914629 rows × 12 columns</p>\n",
       "</div>"
      ],
      "text/plain": [
       "        Store  DayOfWeek       Date  Sales  Customers  Open  Promo  \\\n",
       "0           1          4 2015-04-30   6228        650     1      1   \n",
       "1           2          4 2015-04-30   6884        716     1      1   \n",
       "2           3          4 2015-04-30   9971        979     1      1   \n",
       "3           4          4 2015-04-30  16106       1854     1      1   \n",
       "4           5          4 2015-04-30   6598        729     1      1   \n",
       "...       ...        ...        ...    ...        ...   ...    ...   \n",
       "914624   1111          2 2013-01-01      0          0     0      0   \n",
       "914625   1112          2 2013-01-01      0          0     0      0   \n",
       "914626   1113          2 2013-01-01      0          0     0      0   \n",
       "914627   1114          2 2013-01-01      0          0     0      0   \n",
       "914628   1115          2 2013-01-01      0          0     0      0   \n",
       "\n",
       "        StateHoliday  SchoolHoliday  Year  Month  Day  \n",
       "0                  0              0  2015      4   30  \n",
       "1                  0              0  2015      4   30  \n",
       "2                  0              0  2015      4   30  \n",
       "3                  0              0  2015      4   30  \n",
       "4                  0              0  2015      4   30  \n",
       "...              ...            ...   ...    ...  ...  \n",
       "914624             1              1  2013      1    1  \n",
       "914625             1              1  2013      1    1  \n",
       "914626             1              1  2013      1    1  \n",
       "914627             1              1  2013      1    1  \n",
       "914628             1              1  2013      1    1  \n",
       "\n",
       "[914629 rows x 12 columns]"
      ]
     },
     "execution_count": 13,
     "metadata": {},
     "output_type": "execute_result"
    }
   ],
   "source": [
    "sales_data"
   ]
  },
  {
   "cell_type": "code",
   "execution_count": 14,
   "id": "197d56fd-c813-4580-bfc4-cb63a0ee62be",
   "metadata": {
    "tags": []
   },
   "outputs": [],
   "source": [
    "features = ['Store', 'DayOfWeek', 'Customers', 'Promo', 'StateHoliday', 'SchoolHoliday', 'Year', 'Month', 'Day']"
   ]
  },
  {
   "cell_type": "code",
   "execution_count": 15,
   "id": "86856e21-48f6-422b-99e7-c039f159a1de",
   "metadata": {
    "tags": []
   },
   "outputs": [],
   "source": [
    "X = sales_data[features]"
   ]
  },
  {
   "cell_type": "code",
   "execution_count": 16,
   "id": "93567da2-6f0c-4ba9-b04a-950f61abbb84",
   "metadata": {
    "tags": []
   },
   "outputs": [],
   "source": [
    "y = sales_data.Sales"
   ]
  },
  {
   "cell_type": "code",
   "execution_count": 17,
   "id": "43604a3c-2a65-43c5-a7cd-876b209a391b",
   "metadata": {
    "tags": []
   },
   "outputs": [],
   "source": [
    "X_train, X_test, y_train, y_test = train_test_split(X, y, train_size=0.8, test_size=0.2, random_state=0)"
   ]
  },
  {
   "cell_type": "code",
   "execution_count": 18,
   "id": "284ac8d7-0244-4f8a-8815-0489e817b350",
   "metadata": {
    "tags": []
   },
   "outputs": [],
   "source": [
    "from sklearn.ensemble import RandomForestRegressor\n",
    "from sklearn.model_selection import GridSearchCV\n",
    "import numpy as np\n",
    "\n",
    "from sklearn.metrics import mean_squared_error, mean_absolute_error, make_scorer"
   ]
  },
  {
   "cell_type": "code",
   "execution_count": 19,
   "id": "aad6265f-2c0f-425b-b5c5-4e339ba689aa",
   "metadata": {
    "tags": []
   },
   "outputs": [
    {
     "name": "stdout",
     "output_type": "stream",
     "text": [
      "Best grid search hyperparameters are: {'max_depth': 10, 'max_features': 7, 'min_samples_leaf': 2, 'min_samples_split': 3, 'n_estimators': 20}\n",
      "Best grid search score is: -1548942.637196298\n"
     ]
    }
   ],
   "source": [
    "# grid search cv\n",
    "grid_space={'max_depth':[3,7,10],\n",
    "              'n_estimators':[5,10,20],\n",
    "              'max_features':[1,5,7],\n",
    "              'min_samples_leaf':[1,2,3],\n",
    "              'min_samples_split':[1,2,3]\n",
    "           }\n",
    "rf = RandomForestRegressor()\n",
    "\n",
    "scoring = make_scorer(mean_squared_error, greater_is_better=False)\n",
    "\n",
    "grid = GridSearchCV(rf,param_grid=grid_space,cv=3,scoring=scoring)\n",
    "model_grid = grid.fit(X_train, y_train)\n",
    "\n",
    "# grid search results\n",
    "print('Best grid search hyperparameters are: '+str(model_grid.best_params_))\n",
    "print('Best grid search score is: '+str(model_grid.best_score_))"
   ]
  },
  {
   "cell_type": "code",
   "execution_count": 20,
   "id": "92f1d382-6771-4a18-b34c-70b0334fe773",
   "metadata": {
    "tags": []
   },
   "outputs": [
    {
     "name": "stdout",
     "output_type": "stream",
     "text": [
      "Test set accuracy:  0.8943132406979162\n"
     ]
    }
   ],
   "source": [
    "# Evaluate the final model\n",
    "final_model = model_grid.best_estimator_\n",
    "final_model.fit(X_train, y_train)\n",
    "test_accuracy = final_model.score(X_test, y_test)\n",
    "print(\"Test set accuracy: \", test_accuracy)"
   ]
  },
  {
   "cell_type": "code",
   "execution_count": 27,
   "id": "64809bb7-187d-4efe-891a-227b7700cfdb",
   "metadata": {
    "tags": []
   },
   "outputs": [
    {
     "name": "stdout",
     "output_type": "stream",
     "text": [
      "{'max_depth': 3, 'max_features': 1, 'min_samples_leaf': 1, 'min_samples_split': 1, 'n_estimators': 5} -8047724.740736368\n",
      "{'max_depth': 3, 'max_features': 1, 'min_samples_leaf': 1, 'min_samples_split': 1, 'n_estimators': 10} -7404706.577077125\n",
      "{'max_depth': 3, 'max_features': 1, 'min_samples_leaf': 1, 'min_samples_split': 1, 'n_estimators': 20} -7816483.7735466845\n",
      "{'max_depth': 3, 'max_features': 1, 'min_samples_leaf': 1, 'min_samples_split': 2, 'n_estimators': 5} -9087193.50057417\n",
      "{'max_depth': 3, 'max_features': 1, 'min_samples_leaf': 1, 'min_samples_split': 2, 'n_estimators': 10} -7876779.8532280205\n",
      "{'max_depth': 3, 'max_features': 1, 'min_samples_leaf': 1, 'min_samples_split': 2, 'n_estimators': 20} -7551821.702403054\n",
      "{'max_depth': 3, 'max_features': 1, 'min_samples_leaf': 1, 'min_samples_split': 3, 'n_estimators': 5} -8122842.489415939\n",
      "{'max_depth': 3, 'max_features': 1, 'min_samples_leaf': 1, 'min_samples_split': 3, 'n_estimators': 10} -7198613.221296828\n",
      "{'max_depth': 3, 'max_features': 1, 'min_samples_leaf': 1, 'min_samples_split': 3, 'n_estimators': 20} -7430615.266853579\n",
      "{'max_depth': 3, 'max_features': 1, 'min_samples_leaf': 2, 'min_samples_split': 1, 'n_estimators': 5} -8020195.091132209\n",
      "{'max_depth': 3, 'max_features': 1, 'min_samples_leaf': 2, 'min_samples_split': 1, 'n_estimators': 10} -7609954.211570895\n",
      "{'max_depth': 3, 'max_features': 1, 'min_samples_leaf': 2, 'min_samples_split': 1, 'n_estimators': 20} -7550549.204988618\n",
      "{'max_depth': 3, 'max_features': 1, 'min_samples_leaf': 2, 'min_samples_split': 2, 'n_estimators': 5} -7812812.88747424\n",
      "{'max_depth': 3, 'max_features': 1, 'min_samples_leaf': 2, 'min_samples_split': 2, 'n_estimators': 10} -8305490.25741987\n",
      "{'max_depth': 3, 'max_features': 1, 'min_samples_leaf': 2, 'min_samples_split': 2, 'n_estimators': 20} -7572119.910295957\n",
      "{'max_depth': 3, 'max_features': 1, 'min_samples_leaf': 2, 'min_samples_split': 3, 'n_estimators': 5} -7159277.360943359\n",
      "{'max_depth': 3, 'max_features': 1, 'min_samples_leaf': 2, 'min_samples_split': 3, 'n_estimators': 10} -8436725.55407273\n",
      "{'max_depth': 3, 'max_features': 1, 'min_samples_leaf': 2, 'min_samples_split': 3, 'n_estimators': 20} -7744532.955249556\n",
      "{'max_depth': 3, 'max_features': 1, 'min_samples_leaf': 3, 'min_samples_split': 1, 'n_estimators': 5} -7769883.186373513\n",
      "{'max_depth': 3, 'max_features': 1, 'min_samples_leaf': 3, 'min_samples_split': 1, 'n_estimators': 10} -6874438.120852061\n",
      "{'max_depth': 3, 'max_features': 1, 'min_samples_leaf': 3, 'min_samples_split': 1, 'n_estimators': 20} -7600559.694905594\n",
      "{'max_depth': 3, 'max_features': 1, 'min_samples_leaf': 3, 'min_samples_split': 2, 'n_estimators': 5} -6947474.740382026\n",
      "{'max_depth': 3, 'max_features': 1, 'min_samples_leaf': 3, 'min_samples_split': 2, 'n_estimators': 10} -8267219.083925684\n",
      "{'max_depth': 3, 'max_features': 1, 'min_samples_leaf': 3, 'min_samples_split': 2, 'n_estimators': 20} -7774130.119771776\n",
      "{'max_depth': 3, 'max_features': 1, 'min_samples_leaf': 3, 'min_samples_split': 3, 'n_estimators': 5} -8252634.099631414\n",
      "{'max_depth': 3, 'max_features': 1, 'min_samples_leaf': 3, 'min_samples_split': 3, 'n_estimators': 10} -6689938.661907893\n",
      "{'max_depth': 3, 'max_features': 1, 'min_samples_leaf': 3, 'min_samples_split': 3, 'n_estimators': 20} -6949945.846313559\n",
      "{'max_depth': 3, 'max_features': 5, 'min_samples_leaf': 1, 'min_samples_split': 1, 'n_estimators': 5} -3384593.161818642\n",
      "{'max_depth': 3, 'max_features': 5, 'min_samples_leaf': 1, 'min_samples_split': 1, 'n_estimators': 10} -3358701.0542481956\n",
      "{'max_depth': 3, 'max_features': 5, 'min_samples_leaf': 1, 'min_samples_split': 1, 'n_estimators': 20} -3060841.8039056887\n",
      "{'max_depth': 3, 'max_features': 5, 'min_samples_leaf': 1, 'min_samples_split': 2, 'n_estimators': 5} -3225053.368936561\n",
      "{'max_depth': 3, 'max_features': 5, 'min_samples_leaf': 1, 'min_samples_split': 2, 'n_estimators': 10} -3229714.296697823\n",
      "{'max_depth': 3, 'max_features': 5, 'min_samples_leaf': 1, 'min_samples_split': 2, 'n_estimators': 20} -3081914.2863735124\n",
      "{'max_depth': 3, 'max_features': 5, 'min_samples_leaf': 1, 'min_samples_split': 3, 'n_estimators': 5} -3732733.0555505888\n",
      "{'max_depth': 3, 'max_features': 5, 'min_samples_leaf': 1, 'min_samples_split': 3, 'n_estimators': 10} -2941100.6436664923\n",
      "{'max_depth': 3, 'max_features': 5, 'min_samples_leaf': 1, 'min_samples_split': 3, 'n_estimators': 20} -3207248.712377343\n",
      "{'max_depth': 3, 'max_features': 5, 'min_samples_leaf': 2, 'min_samples_split': 1, 'n_estimators': 5} -3560649.430461682\n",
      "{'max_depth': 3, 'max_features': 5, 'min_samples_leaf': 2, 'min_samples_split': 1, 'n_estimators': 10} -3422001.7919370234\n",
      "{'max_depth': 3, 'max_features': 5, 'min_samples_leaf': 2, 'min_samples_split': 1, 'n_estimators': 20} -3414689.1761233616\n",
      "{'max_depth': 3, 'max_features': 5, 'min_samples_leaf': 2, 'min_samples_split': 2, 'n_estimators': 5} -3268993.331535199\n",
      "{'max_depth': 3, 'max_features': 5, 'min_samples_leaf': 2, 'min_samples_split': 2, 'n_estimators': 10} -3139754.3758080527\n",
      "{'max_depth': 3, 'max_features': 5, 'min_samples_leaf': 2, 'min_samples_split': 2, 'n_estimators': 20} -3065081.9574217866\n",
      "{'max_depth': 3, 'max_features': 5, 'min_samples_leaf': 2, 'min_samples_split': 3, 'n_estimators': 5} -3267606.041812485\n",
      "{'max_depth': 3, 'max_features': 5, 'min_samples_leaf': 2, 'min_samples_split': 3, 'n_estimators': 10} -3771088.819175758\n",
      "{'max_depth': 3, 'max_features': 5, 'min_samples_leaf': 2, 'min_samples_split': 3, 'n_estimators': 20} -3061622.4629061115\n",
      "{'max_depth': 3, 'max_features': 5, 'min_samples_leaf': 3, 'min_samples_split': 1, 'n_estimators': 5} -3421309.7521008444\n",
      "{'max_depth': 3, 'max_features': 5, 'min_samples_leaf': 3, 'min_samples_split': 1, 'n_estimators': 10} -3218979.9023208036\n",
      "{'max_depth': 3, 'max_features': 5, 'min_samples_leaf': 3, 'min_samples_split': 1, 'n_estimators': 20} -3139297.2951237564\n",
      "{'max_depth': 3, 'max_features': 5, 'min_samples_leaf': 3, 'min_samples_split': 2, 'n_estimators': 5} -3029527.974694222\n",
      "{'max_depth': 3, 'max_features': 5, 'min_samples_leaf': 3, 'min_samples_split': 2, 'n_estimators': 10} -3246336.798703131\n",
      "{'max_depth': 3, 'max_features': 5, 'min_samples_leaf': 3, 'min_samples_split': 2, 'n_estimators': 20} -3045508.7207121863\n",
      "{'max_depth': 3, 'max_features': 5, 'min_samples_leaf': 3, 'min_samples_split': 3, 'n_estimators': 5} -3449378.2621059585\n",
      "{'max_depth': 3, 'max_features': 5, 'min_samples_leaf': 3, 'min_samples_split': 3, 'n_estimators': 10} -3255884.2894856934\n",
      "{'max_depth': 3, 'max_features': 5, 'min_samples_leaf': 3, 'min_samples_split': 3, 'n_estimators': 20} -3061846.377495887\n",
      "{'max_depth': 3, 'max_features': 7, 'min_samples_leaf': 1, 'min_samples_split': 1, 'n_estimators': 5} -2683878.0949934805\n",
      "{'max_depth': 3, 'max_features': 7, 'min_samples_leaf': 1, 'min_samples_split': 1, 'n_estimators': 10} -2756523.686246592\n",
      "{'max_depth': 3, 'max_features': 7, 'min_samples_leaf': 1, 'min_samples_split': 1, 'n_estimators': 20} -2574994.070740329\n",
      "{'max_depth': 3, 'max_features': 7, 'min_samples_leaf': 1, 'min_samples_split': 2, 'n_estimators': 5} -2672680.2524488005\n",
      "{'max_depth': 3, 'max_features': 7, 'min_samples_leaf': 1, 'min_samples_split': 2, 'n_estimators': 10} -2668239.233392065\n",
      "{'max_depth': 3, 'max_features': 7, 'min_samples_leaf': 1, 'min_samples_split': 2, 'n_estimators': 20} -2594198.4746527113\n",
      "{'max_depth': 3, 'max_features': 7, 'min_samples_leaf': 1, 'min_samples_split': 3, 'n_estimators': 5} -2947107.875528701\n",
      "{'max_depth': 3, 'max_features': 7, 'min_samples_leaf': 1, 'min_samples_split': 3, 'n_estimators': 10} -2608328.3682360374\n",
      "{'max_depth': 3, 'max_features': 7, 'min_samples_leaf': 1, 'min_samples_split': 3, 'n_estimators': 20} -2672982.1450004145\n",
      "{'max_depth': 3, 'max_features': 7, 'min_samples_leaf': 2, 'min_samples_split': 1, 'n_estimators': 5} -2687817.8274746793\n",
      "{'max_depth': 3, 'max_features': 7, 'min_samples_leaf': 2, 'min_samples_split': 1, 'n_estimators': 10} -2648921.245310808\n",
      "{'max_depth': 3, 'max_features': 7, 'min_samples_leaf': 2, 'min_samples_split': 1, 'n_estimators': 20} -2677603.4246587693\n",
      "{'max_depth': 3, 'max_features': 7, 'min_samples_leaf': 2, 'min_samples_split': 2, 'n_estimators': 5} -2691904.733504735\n",
      "{'max_depth': 3, 'max_features': 7, 'min_samples_leaf': 2, 'min_samples_split': 2, 'n_estimators': 10} -2751619.2604355197\n",
      "{'max_depth': 3, 'max_features': 7, 'min_samples_leaf': 2, 'min_samples_split': 2, 'n_estimators': 20} -2624662.9099914785\n",
      "{'max_depth': 3, 'max_features': 7, 'min_samples_leaf': 2, 'min_samples_split': 3, 'n_estimators': 5} -2796203.007420114\n",
      "{'max_depth': 3, 'max_features': 7, 'min_samples_leaf': 2, 'min_samples_split': 3, 'n_estimators': 10} -2654189.93066854\n",
      "{'max_depth': 3, 'max_features': 7, 'min_samples_leaf': 2, 'min_samples_split': 3, 'n_estimators': 20} -2636367.6048086686\n",
      "{'max_depth': 3, 'max_features': 7, 'min_samples_leaf': 3, 'min_samples_split': 1, 'n_estimators': 5} -2807297.0700979647\n",
      "{'max_depth': 3, 'max_features': 7, 'min_samples_leaf': 3, 'min_samples_split': 1, 'n_estimators': 10} -2670559.4569255365\n",
      "{'max_depth': 3, 'max_features': 7, 'min_samples_leaf': 3, 'min_samples_split': 1, 'n_estimators': 20} -2606206.3111489154\n",
      "{'max_depth': 3, 'max_features': 7, 'min_samples_leaf': 3, 'min_samples_split': 2, 'n_estimators': 5} -2837120.2609828836\n",
      "{'max_depth': 3, 'max_features': 7, 'min_samples_leaf': 3, 'min_samples_split': 2, 'n_estimators': 10} -2679602.6223254385\n",
      "{'max_depth': 3, 'max_features': 7, 'min_samples_leaf': 3, 'min_samples_split': 2, 'n_estimators': 20} -2619466.1002336587\n",
      "{'max_depth': 3, 'max_features': 7, 'min_samples_leaf': 3, 'min_samples_split': 3, 'n_estimators': 5} -2699362.0929488684\n",
      "{'max_depth': 3, 'max_features': 7, 'min_samples_leaf': 3, 'min_samples_split': 3, 'n_estimators': 10} -2680502.4434099775\n",
      "{'max_depth': 3, 'max_features': 7, 'min_samples_leaf': 3, 'min_samples_split': 3, 'n_estimators': 20} -2607612.0944813793\n",
      "{'max_depth': 7, 'max_features': 1, 'min_samples_leaf': 1, 'min_samples_split': 1, 'n_estimators': 5} -4204761.652184105\n",
      "{'max_depth': 7, 'max_features': 1, 'min_samples_leaf': 1, 'min_samples_split': 1, 'n_estimators': 10} -4502690.510777838\n",
      "{'max_depth': 7, 'max_features': 1, 'min_samples_leaf': 1, 'min_samples_split': 1, 'n_estimators': 20} -4004761.862497358\n",
      "{'max_depth': 7, 'max_features': 1, 'min_samples_leaf': 1, 'min_samples_split': 2, 'n_estimators': 5} -4106524.3689192007\n",
      "{'max_depth': 7, 'max_features': 1, 'min_samples_leaf': 1, 'min_samples_split': 2, 'n_estimators': 10} -3926490.3192207906\n",
      "{'max_depth': 7, 'max_features': 1, 'min_samples_leaf': 1, 'min_samples_split': 2, 'n_estimators': 20} -4167369.3946350687\n",
      "{'max_depth': 7, 'max_features': 1, 'min_samples_leaf': 1, 'min_samples_split': 3, 'n_estimators': 5} -4045929.769738113\n",
      "{'max_depth': 7, 'max_features': 1, 'min_samples_leaf': 1, 'min_samples_split': 3, 'n_estimators': 10} -4438759.670181449\n",
      "{'max_depth': 7, 'max_features': 1, 'min_samples_leaf': 1, 'min_samples_split': 3, 'n_estimators': 20} -4049870.9795010244\n",
      "{'max_depth': 7, 'max_features': 1, 'min_samples_leaf': 2, 'min_samples_split': 1, 'n_estimators': 5} -4938814.774764614\n",
      "{'max_depth': 7, 'max_features': 1, 'min_samples_leaf': 2, 'min_samples_split': 1, 'n_estimators': 10} -4054969.488238282\n",
      "{'max_depth': 7, 'max_features': 1, 'min_samples_leaf': 2, 'min_samples_split': 1, 'n_estimators': 20} -4073477.3883522362\n",
      "{'max_depth': 7, 'max_features': 1, 'min_samples_leaf': 2, 'min_samples_split': 2, 'n_estimators': 5} -4542318.825309568\n",
      "{'max_depth': 7, 'max_features': 1, 'min_samples_leaf': 2, 'min_samples_split': 2, 'n_estimators': 10} -3837880.1746991095\n",
      "{'max_depth': 7, 'max_features': 1, 'min_samples_leaf': 2, 'min_samples_split': 2, 'n_estimators': 20} -4275334.836941946\n",
      "{'max_depth': 7, 'max_features': 1, 'min_samples_leaf': 2, 'min_samples_split': 3, 'n_estimators': 5} -4720646.012941454\n",
      "{'max_depth': 7, 'max_features': 1, 'min_samples_leaf': 2, 'min_samples_split': 3, 'n_estimators': 10} -4041279.8434731583\n",
      "{'max_depth': 7, 'max_features': 1, 'min_samples_leaf': 2, 'min_samples_split': 3, 'n_estimators': 20} -4228557.282342819\n",
      "{'max_depth': 7, 'max_features': 1, 'min_samples_leaf': 3, 'min_samples_split': 1, 'n_estimators': 5} -4508121.680595695\n",
      "{'max_depth': 7, 'max_features': 1, 'min_samples_leaf': 3, 'min_samples_split': 1, 'n_estimators': 10} -3970863.0539786923\n",
      "{'max_depth': 7, 'max_features': 1, 'min_samples_leaf': 3, 'min_samples_split': 1, 'n_estimators': 20} -3935684.3304782324\n",
      "{'max_depth': 7, 'max_features': 1, 'min_samples_leaf': 3, 'min_samples_split': 2, 'n_estimators': 5} -3537212.7669174713\n",
      "{'max_depth': 7, 'max_features': 1, 'min_samples_leaf': 3, 'min_samples_split': 2, 'n_estimators': 10} -4415952.442721778\n",
      "{'max_depth': 7, 'max_features': 1, 'min_samples_leaf': 3, 'min_samples_split': 2, 'n_estimators': 20} -3954170.75758943\n",
      "{'max_depth': 7, 'max_features': 1, 'min_samples_leaf': 3, 'min_samples_split': 3, 'n_estimators': 5} -4501586.312306974\n",
      "{'max_depth': 7, 'max_features': 1, 'min_samples_leaf': 3, 'min_samples_split': 3, 'n_estimators': 10} -4148526.6852599382\n",
      "{'max_depth': 7, 'max_features': 1, 'min_samples_leaf': 3, 'min_samples_split': 3, 'n_estimators': 20} -3856143.837895144\n",
      "{'max_depth': 7, 'max_features': 5, 'min_samples_leaf': 1, 'min_samples_split': 1, 'n_estimators': 5} -1823011.6459645852\n",
      "{'max_depth': 7, 'max_features': 5, 'min_samples_leaf': 1, 'min_samples_split': 1, 'n_estimators': 10} -1812504.095004075\n",
      "{'max_depth': 7, 'max_features': 5, 'min_samples_leaf': 1, 'min_samples_split': 1, 'n_estimators': 20} -1809991.5229506306\n",
      "{'max_depth': 7, 'max_features': 5, 'min_samples_leaf': 1, 'min_samples_split': 2, 'n_estimators': 5} -1863377.852944915\n",
      "{'max_depth': 7, 'max_features': 5, 'min_samples_leaf': 1, 'min_samples_split': 2, 'n_estimators': 10} -1810508.0160711582\n",
      "{'max_depth': 7, 'max_features': 5, 'min_samples_leaf': 1, 'min_samples_split': 2, 'n_estimators': 20} -1816366.4219564877\n",
      "{'max_depth': 7, 'max_features': 5, 'min_samples_leaf': 1, 'min_samples_split': 3, 'n_estimators': 5} -1859328.306274378\n",
      "{'max_depth': 7, 'max_features': 5, 'min_samples_leaf': 1, 'min_samples_split': 3, 'n_estimators': 10} -1806364.054848101\n",
      "{'max_depth': 7, 'max_features': 5, 'min_samples_leaf': 1, 'min_samples_split': 3, 'n_estimators': 20} -1798664.4493533524\n",
      "{'max_depth': 7, 'max_features': 5, 'min_samples_leaf': 2, 'min_samples_split': 1, 'n_estimators': 5} -1831190.4441097795\n",
      "{'max_depth': 7, 'max_features': 5, 'min_samples_leaf': 2, 'min_samples_split': 1, 'n_estimators': 10} -1860492.5260670965\n",
      "{'max_depth': 7, 'max_features': 5, 'min_samples_leaf': 2, 'min_samples_split': 1, 'n_estimators': 20} -1794325.4934694136\n",
      "{'max_depth': 7, 'max_features': 5, 'min_samples_leaf': 2, 'min_samples_split': 2, 'n_estimators': 5} -1872859.4492318814\n",
      "{'max_depth': 7, 'max_features': 5, 'min_samples_leaf': 2, 'min_samples_split': 2, 'n_estimators': 10} -1797532.238215245\n",
      "{'max_depth': 7, 'max_features': 5, 'min_samples_leaf': 2, 'min_samples_split': 2, 'n_estimators': 20} -1790920.1502341107\n",
      "{'max_depth': 7, 'max_features': 5, 'min_samples_leaf': 2, 'min_samples_split': 3, 'n_estimators': 5} -1817680.6517669738\n",
      "{'max_depth': 7, 'max_features': 5, 'min_samples_leaf': 2, 'min_samples_split': 3, 'n_estimators': 10} -1812930.0761022996\n",
      "{'max_depth': 7, 'max_features': 5, 'min_samples_leaf': 2, 'min_samples_split': 3, 'n_estimators': 20} -1788692.796541088\n",
      "{'max_depth': 7, 'max_features': 5, 'min_samples_leaf': 3, 'min_samples_split': 1, 'n_estimators': 5} -1824647.806629549\n",
      "{'max_depth': 7, 'max_features': 5, 'min_samples_leaf': 3, 'min_samples_split': 1, 'n_estimators': 10} -1833732.3286788056\n",
      "{'max_depth': 7, 'max_features': 5, 'min_samples_leaf': 3, 'min_samples_split': 1, 'n_estimators': 20} -1790606.6651397657\n",
      "{'max_depth': 7, 'max_features': 5, 'min_samples_leaf': 3, 'min_samples_split': 2, 'n_estimators': 5} -1837112.138273351\n",
      "{'max_depth': 7, 'max_features': 5, 'min_samples_leaf': 3, 'min_samples_split': 2, 'n_estimators': 10} -1806227.3815199872\n",
      "{'max_depth': 7, 'max_features': 5, 'min_samples_leaf': 3, 'min_samples_split': 2, 'n_estimators': 20} -1803828.8176997555\n",
      "{'max_depth': 7, 'max_features': 5, 'min_samples_leaf': 3, 'min_samples_split': 3, 'n_estimators': 5} -1847663.3013365234\n",
      "{'max_depth': 7, 'max_features': 5, 'min_samples_leaf': 3, 'min_samples_split': 3, 'n_estimators': 10} -1788530.245095996\n",
      "{'max_depth': 7, 'max_features': 5, 'min_samples_leaf': 3, 'min_samples_split': 3, 'n_estimators': 20} -1803310.0182173268\n",
      "{'max_depth': 7, 'max_features': 7, 'min_samples_leaf': 1, 'min_samples_split': 1, 'n_estimators': 5} -1778424.2089863599\n",
      "{'max_depth': 7, 'max_features': 7, 'min_samples_leaf': 1, 'min_samples_split': 1, 'n_estimators': 10} -1768162.8541749648\n",
      "{'max_depth': 7, 'max_features': 7, 'min_samples_leaf': 1, 'min_samples_split': 1, 'n_estimators': 20} -1759977.2070666573\n",
      "{'max_depth': 7, 'max_features': 7, 'min_samples_leaf': 1, 'min_samples_split': 2, 'n_estimators': 5} -1786076.2426449752\n",
      "{'max_depth': 7, 'max_features': 7, 'min_samples_leaf': 1, 'min_samples_split': 2, 'n_estimators': 10} -1760330.709285552\n",
      "{'max_depth': 7, 'max_features': 7, 'min_samples_leaf': 1, 'min_samples_split': 2, 'n_estimators': 20} -1762647.085663141\n",
      "{'max_depth': 7, 'max_features': 7, 'min_samples_leaf': 1, 'min_samples_split': 3, 'n_estimators': 5} -1773042.4281622462\n",
      "{'max_depth': 7, 'max_features': 7, 'min_samples_leaf': 1, 'min_samples_split': 3, 'n_estimators': 10} -1766510.5764171344\n",
      "{'max_depth': 7, 'max_features': 7, 'min_samples_leaf': 1, 'min_samples_split': 3, 'n_estimators': 20} -1756792.1187621972\n",
      "{'max_depth': 7, 'max_features': 7, 'min_samples_leaf': 2, 'min_samples_split': 1, 'n_estimators': 5} -1769357.3969250198\n",
      "{'max_depth': 7, 'max_features': 7, 'min_samples_leaf': 2, 'min_samples_split': 1, 'n_estimators': 10} -1763009.8591663137\n",
      "{'max_depth': 7, 'max_features': 7, 'min_samples_leaf': 2, 'min_samples_split': 1, 'n_estimators': 20} -1753925.9392621778\n",
      "{'max_depth': 7, 'max_features': 7, 'min_samples_leaf': 2, 'min_samples_split': 2, 'n_estimators': 5} -1775526.543822759\n",
      "{'max_depth': 7, 'max_features': 7, 'min_samples_leaf': 2, 'min_samples_split': 2, 'n_estimators': 10} -1762608.057434341\n",
      "{'max_depth': 7, 'max_features': 7, 'min_samples_leaf': 2, 'min_samples_split': 2, 'n_estimators': 20} -1756236.319221915\n",
      "{'max_depth': 7, 'max_features': 7, 'min_samples_leaf': 2, 'min_samples_split': 3, 'n_estimators': 5} -1759096.9526540122\n",
      "{'max_depth': 7, 'max_features': 7, 'min_samples_leaf': 2, 'min_samples_split': 3, 'n_estimators': 10} -1761954.0395513137\n",
      "{'max_depth': 7, 'max_features': 7, 'min_samples_leaf': 2, 'min_samples_split': 3, 'n_estimators': 20} -1758350.4453618173\n",
      "{'max_depth': 7, 'max_features': 7, 'min_samples_leaf': 3, 'min_samples_split': 1, 'n_estimators': 5} -1781880.5977027845\n",
      "{'max_depth': 7, 'max_features': 7, 'min_samples_leaf': 3, 'min_samples_split': 1, 'n_estimators': 10} -1765477.1837160892\n",
      "{'max_depth': 7, 'max_features': 7, 'min_samples_leaf': 3, 'min_samples_split': 1, 'n_estimators': 20} -1750309.9148834872\n",
      "{'max_depth': 7, 'max_features': 7, 'min_samples_leaf': 3, 'min_samples_split': 2, 'n_estimators': 5} -1778882.7773377316\n",
      "{'max_depth': 7, 'max_features': 7, 'min_samples_leaf': 3, 'min_samples_split': 2, 'n_estimators': 10} -1764231.496976503\n",
      "{'max_depth': 7, 'max_features': 7, 'min_samples_leaf': 3, 'min_samples_split': 2, 'n_estimators': 20} -1757804.4336511337\n",
      "{'max_depth': 7, 'max_features': 7, 'min_samples_leaf': 3, 'min_samples_split': 3, 'n_estimators': 5} -1776257.287721687\n",
      "{'max_depth': 7, 'max_features': 7, 'min_samples_leaf': 3, 'min_samples_split': 3, 'n_estimators': 10} -1770262.6997042417\n",
      "{'max_depth': 7, 'max_features': 7, 'min_samples_leaf': 3, 'min_samples_split': 3, 'n_estimators': 20} -1757966.0631567666\n",
      "{'max_depth': 10, 'max_features': 1, 'min_samples_leaf': 1, 'min_samples_split': 1, 'n_estimators': 5} -3668716.3283155393\n",
      "{'max_depth': 10, 'max_features': 1, 'min_samples_leaf': 1, 'min_samples_split': 1, 'n_estimators': 10} -3098977.5863423613\n",
      "{'max_depth': 10, 'max_features': 1, 'min_samples_leaf': 1, 'min_samples_split': 1, 'n_estimators': 20} -2821342.234468696\n",
      "{'max_depth': 10, 'max_features': 1, 'min_samples_leaf': 1, 'min_samples_split': 2, 'n_estimators': 5} -3082254.7875236273\n",
      "{'max_depth': 10, 'max_features': 1, 'min_samples_leaf': 1, 'min_samples_split': 2, 'n_estimators': 10} -2785102.9872862627\n",
      "{'max_depth': 10, 'max_features': 1, 'min_samples_leaf': 1, 'min_samples_split': 2, 'n_estimators': 20} -2836469.005100878\n",
      "{'max_depth': 10, 'max_features': 1, 'min_samples_leaf': 1, 'min_samples_split': 3, 'n_estimators': 5} -2933734.9803392827\n",
      "{'max_depth': 10, 'max_features': 1, 'min_samples_leaf': 1, 'min_samples_split': 3, 'n_estimators': 10} -2794697.136075422\n",
      "{'max_depth': 10, 'max_features': 1, 'min_samples_leaf': 1, 'min_samples_split': 3, 'n_estimators': 20} -2874055.024981815\n",
      "{'max_depth': 10, 'max_features': 1, 'min_samples_leaf': 2, 'min_samples_split': 1, 'n_estimators': 5} -3476807.8155033533\n",
      "{'max_depth': 10, 'max_features': 1, 'min_samples_leaf': 2, 'min_samples_split': 1, 'n_estimators': 10} -2763165.509489848\n",
      "{'max_depth': 10, 'max_features': 1, 'min_samples_leaf': 2, 'min_samples_split': 1, 'n_estimators': 20} -2884093.1472180425\n",
      "{'max_depth': 10, 'max_features': 1, 'min_samples_leaf': 2, 'min_samples_split': 2, 'n_estimators': 5} -3188992.422843779\n",
      "{'max_depth': 10, 'max_features': 1, 'min_samples_leaf': 2, 'min_samples_split': 2, 'n_estimators': 10} -3000181.7070023473\n",
      "{'max_depth': 10, 'max_features': 1, 'min_samples_leaf': 2, 'min_samples_split': 2, 'n_estimators': 20} -2707615.194833178\n",
      "{'max_depth': 10, 'max_features': 1, 'min_samples_leaf': 2, 'min_samples_split': 3, 'n_estimators': 5} -3019171.77997845\n",
      "{'max_depth': 10, 'max_features': 1, 'min_samples_leaf': 2, 'min_samples_split': 3, 'n_estimators': 10} -3065887.0338938925\n",
      "{'max_depth': 10, 'max_features': 1, 'min_samples_leaf': 2, 'min_samples_split': 3, 'n_estimators': 20} -2927467.2777063004\n",
      "{'max_depth': 10, 'max_features': 1, 'min_samples_leaf': 3, 'min_samples_split': 1, 'n_estimators': 5} -3086648.45850247\n",
      "{'max_depth': 10, 'max_features': 1, 'min_samples_leaf': 3, 'min_samples_split': 1, 'n_estimators': 10} -3141819.196795236\n",
      "{'max_depth': 10, 'max_features': 1, 'min_samples_leaf': 3, 'min_samples_split': 1, 'n_estimators': 20} -2828746.541735141\n",
      "{'max_depth': 10, 'max_features': 1, 'min_samples_leaf': 3, 'min_samples_split': 2, 'n_estimators': 5} -2992375.1308690137\n",
      "{'max_depth': 10, 'max_features': 1, 'min_samples_leaf': 3, 'min_samples_split': 2, 'n_estimators': 10} -3235799.583319649\n",
      "{'max_depth': 10, 'max_features': 1, 'min_samples_leaf': 3, 'min_samples_split': 2, 'n_estimators': 20} -2894614.9285795907\n",
      "{'max_depth': 10, 'max_features': 1, 'min_samples_leaf': 3, 'min_samples_split': 3, 'n_estimators': 5} -3211179.55535108\n",
      "{'max_depth': 10, 'max_features': 1, 'min_samples_leaf': 3, 'min_samples_split': 3, 'n_estimators': 10} -3125446.192313097\n",
      "{'max_depth': 10, 'max_features': 1, 'min_samples_leaf': 3, 'min_samples_split': 3, 'n_estimators': 20} -2958940.5324097313\n",
      "{'max_depth': 10, 'max_features': 5, 'min_samples_leaf': 1, 'min_samples_split': 1, 'n_estimators': 5} -1614394.7115421891\n",
      "{'max_depth': 10, 'max_features': 5, 'min_samples_leaf': 1, 'min_samples_split': 1, 'n_estimators': 10} -1600868.5443923762\n",
      "{'max_depth': 10, 'max_features': 5, 'min_samples_leaf': 1, 'min_samples_split': 1, 'n_estimators': 20} -1594009.6246298281\n",
      "{'max_depth': 10, 'max_features': 5, 'min_samples_leaf': 1, 'min_samples_split': 2, 'n_estimators': 5} -1621962.589162036\n",
      "{'max_depth': 10, 'max_features': 5, 'min_samples_leaf': 1, 'min_samples_split': 2, 'n_estimators': 10} -1598418.7623637363\n",
      "{'max_depth': 10, 'max_features': 5, 'min_samples_leaf': 1, 'min_samples_split': 2, 'n_estimators': 20} -1598944.5043523295\n",
      "{'max_depth': 10, 'max_features': 5, 'min_samples_leaf': 1, 'min_samples_split': 3, 'n_estimators': 5} -1626775.0356182493\n",
      "{'max_depth': 10, 'max_features': 5, 'min_samples_leaf': 1, 'min_samples_split': 3, 'n_estimators': 10} -1605971.8354205138\n",
      "{'max_depth': 10, 'max_features': 5, 'min_samples_leaf': 1, 'min_samples_split': 3, 'n_estimators': 20} -1592415.1041041065\n",
      "{'max_depth': 10, 'max_features': 5, 'min_samples_leaf': 2, 'min_samples_split': 1, 'n_estimators': 5} -1618613.4217606056\n",
      "{'max_depth': 10, 'max_features': 5, 'min_samples_leaf': 2, 'min_samples_split': 1, 'n_estimators': 10} -1621818.5463434197\n",
      "{'max_depth': 10, 'max_features': 5, 'min_samples_leaf': 2, 'min_samples_split': 1, 'n_estimators': 20} -1598984.4134653762\n",
      "{'max_depth': 10, 'max_features': 5, 'min_samples_leaf': 2, 'min_samples_split': 2, 'n_estimators': 5} -1598049.595374927\n",
      "{'max_depth': 10, 'max_features': 5, 'min_samples_leaf': 2, 'min_samples_split': 2, 'n_estimators': 10} -1599766.146291834\n",
      "{'max_depth': 10, 'max_features': 5, 'min_samples_leaf': 2, 'min_samples_split': 2, 'n_estimators': 20} -1588622.9251870855\n",
      "{'max_depth': 10, 'max_features': 5, 'min_samples_leaf': 2, 'min_samples_split': 3, 'n_estimators': 5} -1615889.6276082117\n",
      "{'max_depth': 10, 'max_features': 5, 'min_samples_leaf': 2, 'min_samples_split': 3, 'n_estimators': 10} -1599297.1701956473\n",
      "{'max_depth': 10, 'max_features': 5, 'min_samples_leaf': 2, 'min_samples_split': 3, 'n_estimators': 20} -1593248.9962458957\n",
      "{'max_depth': 10, 'max_features': 5, 'min_samples_leaf': 3, 'min_samples_split': 1, 'n_estimators': 5} -1619602.0811732914\n",
      "{'max_depth': 10, 'max_features': 5, 'min_samples_leaf': 3, 'min_samples_split': 1, 'n_estimators': 10} -1592769.9140959848\n",
      "{'max_depth': 10, 'max_features': 5, 'min_samples_leaf': 3, 'min_samples_split': 1, 'n_estimators': 20} -1595560.6369035877\n",
      "{'max_depth': 10, 'max_features': 5, 'min_samples_leaf': 3, 'min_samples_split': 2, 'n_estimators': 5} -1606024.9408479205\n",
      "{'max_depth': 10, 'max_features': 5, 'min_samples_leaf': 3, 'min_samples_split': 2, 'n_estimators': 10} -1605694.401301631\n",
      "{'max_depth': 10, 'max_features': 5, 'min_samples_leaf': 3, 'min_samples_split': 2, 'n_estimators': 20} -1593422.162910844\n",
      "{'max_depth': 10, 'max_features': 5, 'min_samples_leaf': 3, 'min_samples_split': 3, 'n_estimators': 5} -1621191.0406384089\n",
      "{'max_depth': 10, 'max_features': 5, 'min_samples_leaf': 3, 'min_samples_split': 3, 'n_estimators': 10} -1592971.7708147347\n",
      "{'max_depth': 10, 'max_features': 5, 'min_samples_leaf': 3, 'min_samples_split': 3, 'n_estimators': 20} -1590428.8928312606\n",
      "{'max_depth': 10, 'max_features': 7, 'min_samples_leaf': 1, 'min_samples_split': 1, 'n_estimators': 5} -1564057.5068386432\n",
      "{'max_depth': 10, 'max_features': 7, 'min_samples_leaf': 1, 'min_samples_split': 1, 'n_estimators': 10} -1560998.335195855\n",
      "{'max_depth': 10, 'max_features': 7, 'min_samples_leaf': 1, 'min_samples_split': 1, 'n_estimators': 20} -1553114.7501266235\n",
      "{'max_depth': 10, 'max_features': 7, 'min_samples_leaf': 1, 'min_samples_split': 2, 'n_estimators': 5} -1564322.642409283\n",
      "{'max_depth': 10, 'max_features': 7, 'min_samples_leaf': 1, 'min_samples_split': 2, 'n_estimators': 10} -1555762.924989606\n",
      "{'max_depth': 10, 'max_features': 7, 'min_samples_leaf': 1, 'min_samples_split': 2, 'n_estimators': 20} -1554002.0276840848\n",
      "{'max_depth': 10, 'max_features': 7, 'min_samples_leaf': 1, 'min_samples_split': 3, 'n_estimators': 5} -1572054.5741864995\n",
      "{'max_depth': 10, 'max_features': 7, 'min_samples_leaf': 1, 'min_samples_split': 3, 'n_estimators': 10} -1559054.4380949165\n",
      "{'max_depth': 10, 'max_features': 7, 'min_samples_leaf': 1, 'min_samples_split': 3, 'n_estimators': 20} -1550473.5373761365\n",
      "{'max_depth': 10, 'max_features': 7, 'min_samples_leaf': 2, 'min_samples_split': 1, 'n_estimators': 5} -1577013.3833084647\n",
      "{'max_depth': 10, 'max_features': 7, 'min_samples_leaf': 2, 'min_samples_split': 1, 'n_estimators': 10} -1551120.6665563926\n",
      "{'max_depth': 10, 'max_features': 7, 'min_samples_leaf': 2, 'min_samples_split': 1, 'n_estimators': 20} -1558944.5585875467\n",
      "{'max_depth': 10, 'max_features': 7, 'min_samples_leaf': 2, 'min_samples_split': 2, 'n_estimators': 5} -1563136.8668430028\n",
      "{'max_depth': 10, 'max_features': 7, 'min_samples_leaf': 2, 'min_samples_split': 2, 'n_estimators': 10} -1559738.323841136\n",
      "{'max_depth': 10, 'max_features': 7, 'min_samples_leaf': 2, 'min_samples_split': 2, 'n_estimators': 20} -1553783.3927051015\n",
      "{'max_depth': 10, 'max_features': 7, 'min_samples_leaf': 2, 'min_samples_split': 3, 'n_estimators': 5} -1571823.6149963278\n",
      "{'max_depth': 10, 'max_features': 7, 'min_samples_leaf': 2, 'min_samples_split': 3, 'n_estimators': 10} -1555162.2671071186\n",
      "{'max_depth': 10, 'max_features': 7, 'min_samples_leaf': 2, 'min_samples_split': 3, 'n_estimators': 20} -1548942.637196298\n",
      "{'max_depth': 10, 'max_features': 7, 'min_samples_leaf': 3, 'min_samples_split': 1, 'n_estimators': 5} -1564808.7956424833\n",
      "{'max_depth': 10, 'max_features': 7, 'min_samples_leaf': 3, 'min_samples_split': 1, 'n_estimators': 10} -1555266.5004560463\n",
      "{'max_depth': 10, 'max_features': 7, 'min_samples_leaf': 3, 'min_samples_split': 1, 'n_estimators': 20} -1554791.6357999258\n",
      "{'max_depth': 10, 'max_features': 7, 'min_samples_leaf': 3, 'min_samples_split': 2, 'n_estimators': 5} -1569389.5148934014\n",
      "{'max_depth': 10, 'max_features': 7, 'min_samples_leaf': 3, 'min_samples_split': 2, 'n_estimators': 10} -1563323.1371315166\n",
      "{'max_depth': 10, 'max_features': 7, 'min_samples_leaf': 3, 'min_samples_split': 2, 'n_estimators': 20} -1554871.2935300805\n",
      "{'max_depth': 10, 'max_features': 7, 'min_samples_leaf': 3, 'min_samples_split': 3, 'n_estimators': 5} -1570079.1710111934\n",
      "{'max_depth': 10, 'max_features': 7, 'min_samples_leaf': 3, 'min_samples_split': 3, 'n_estimators': 10} -1560241.133245072\n",
      "{'max_depth': 10, 'max_features': 7, 'min_samples_leaf': 3, 'min_samples_split': 3, 'n_estimators': 20} -1557001.3729591537\n",
      "mean_squared_error\n"
     ]
    }
   ],
   "source": [
    "cv_results = grid.cv_results_\n",
    "\n",
    "# Print the mean test score for each combination of hyperparameters\n",
    "for i in range(len(cv_results['params'])):\n",
    "    print(cv_results['params'][i], cv_results['mean_test_score'][i])\n",
    "\n",
    "# Access the scorer_ attribute\n",
    "scorer = grid.scorer_\n",
    "\n",
    "# Print the name of the scoring function\n",
    "print(scorer._score_func.__name__)"
   ]
  },
  {
   "cell_type": "code",
   "execution_count": 21,
   "id": "d41c6520-b82a-4ea1-ad0f-b129c0ab3ac8",
   "metadata": {
    "tags": []
   },
   "outputs": [
    {
     "name": "stdout",
     "output_type": "stream",
     "text": [
      "MSE: 1560181.5277001923, MAE: 838.6210870171276, Accuracy: 0.8943265506659326\n"
     ]
    }
   ],
   "source": [
    "model = RandomForestRegressor(max_depth=10, max_features=7, min_samples_leaf=2, min_samples_split=3, n_estimators=20)\n",
    "model.fit(X_train, y_train)\n",
    "preds = model.predict(X_test)\n",
    "mae = mean_absolute_error(y_test, preds)\n",
    "mse = mean_squared_error(y_test, preds)\n",
    "accuracy = model.score(X_test, y_test)\n",
    "print(\"MSE: \" + str(mse) + \", MAE: \" + str(mae) + \", Accuracy: \" + str(accuracy))"
   ]
  },
  {
   "cell_type": "code",
   "execution_count": 29,
   "id": "04ac7758-1177-4542-8bb0-6a45791cbe6e",
   "metadata": {
    "tags": []
   },
   "outputs": [
    {
     "data": {
      "text/plain": [
       "['dt_model_final.pkl']"
      ]
     },
     "execution_count": 29,
     "metadata": {},
     "output_type": "execute_result"
    }
   ],
   "source": [
    "import joblib\n",
    "joblib.dump(model, 'dt_model.pkl')\n",
    "joblib.dump(final_model, 'dt_model_final.pkl')"
   ]
  },
  {
   "cell_type": "code",
   "execution_count": null,
   "id": "76f3280c-ed47-4374-802a-cdb4e0277d4d",
   "metadata": {},
   "outputs": [],
   "source": []
  }
 ],
 "metadata": {
  "kernelspec": {
   "display_name": "Python 3 (ipykernel)",
   "language": "python",
   "name": "python3"
  },
  "language_info": {
   "codemirror_mode": {
    "name": "ipython",
    "version": 3
   },
   "file_extension": ".py",
   "mimetype": "text/x-python",
   "name": "python",
   "nbconvert_exporter": "python",
   "pygments_lexer": "ipython3",
   "version": "3.8.2"
  }
 },
 "nbformat": 4,
 "nbformat_minor": 5
}
